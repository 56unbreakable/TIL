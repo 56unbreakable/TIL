{
 "cells": [
  {
   "cell_type": "code",
   "execution_count": 1,
   "metadata": {},
   "outputs": [],
   "source": [
    "# 데이터 전처리 함수\n",
    "from sklearn import preprocessing\n",
    "\n",
    "# 결측값 채우기\n",
    "def fillna(df):\n",
    "    df['Age'].fillna(df['Age'].mean(), inplace = True)\n",
    "    df['Cabin'].fillna('N', inplace = True)\n",
    "    df['Embarked'].fillna('N', inplace = True)\n",
    "    df['Fare'].fillna(0, inplace = True)\n",
    "    return df\n",
    "\n",
    "# 불필요한 열 삭제\n",
    "def drop_features(df):\n",
    "    df.drop(['PassengerId','Name','Ticket'],axis =1 ,inplace = True)\n",
    "    return df\n",
    "\n",
    "# 레이블 인코딩 수행\n",
    "def encode_features(df):\n",
    "    df['Cabin'] = df['Cabin'].str[:1]\n",
    "    features = ['Cabin','Sex','Embarked']\n",
    "    for feature in features:\n",
    "        le = preprocessing.LabelEncoder()\n",
    "        le = le.fit(df[feature])\n",
    "        df[feature] = le.transform(df[feature])\n",
    "    return df\n",
    "\n",
    "def transfrom_features(df):\n",
    "    df = fillna(df)\n",
    "    df = encode_features(df)\n",
    "    df = drop_features(df)\n",
    "    return df\n"
   ]
  },
  {
   "cell_type": "code",
   "execution_count": 2,
   "metadata": {},
   "outputs": [],
   "source": [
    "# 데이터 준비\n",
    "from sklearn.preprocessing import LabelEncoder\n",
    "from sklearn.model_selection import train_test_split\n",
    "import pandas as pd\n",
    "\n",
    "titanic_df = titanic_df = pd.read_csv('C:/sh/study/Study Everyday/data files/titanic/train.csv')\n",
    "y_titanic_df = titanic_df['Survived']\n",
    "x_titanic_df = titanic_df.drop('Survived',axis = 1)\n",
    "\n",
    "x_titanic_df = transfrom_features(x_titanic_df)\n",
    "\n",
    "# 테스트데이터 분리\n",
    "x_train, x_test, y_train, y_test = train_test_split(x_titanic_df,y_titanic_df,test_size=0.2,random_state=56)"
   ]
  },
  {
   "cell_type": "code",
   "execution_count": 3,
   "metadata": {},
   "outputs": [
    {
     "name": "stdout",
     "output_type": "stream",
     "text": [
      "0.7206703910614525\n"
     ]
    }
   ],
   "source": [
    "# 의사결정나무 모델 학습/예측\n",
    "from sklearn.tree import DecisionTreeClassifier\n",
    "from sklearn.metrics import accuracy_score\n",
    "\n",
    "# 모델 생성\n",
    "dt_clf = DecisionTreeClassifier(random_state=56)\n",
    "\n",
    "# 데이터 학습\n",
    "dt_clf.fit(x_train,y_train)\n",
    "\n",
    "# 예측\n",
    "pred = dt_clf.predict(x_test)\n",
    "\n",
    "# 정확도 출력\n",
    "print(accuracy_score(y_test,pred))"
   ]
  },
  {
   "cell_type": "code",
   "execution_count": 4,
   "metadata": {},
   "outputs": [
    {
     "name": "stdout",
     "output_type": "stream",
     "text": [
      "[0.7542, 0.7697, 0.8034, 0.764, 0.8202]\n",
      "0.7823\n"
     ]
    }
   ],
   "source": [
    "# 교차검증\n",
    "from sklearn.model_selection import KFold\n",
    "from sklearn.tree import DecisionTreeClassifier\n",
    "from sklearn.metrics import accuracy_score\n",
    "import numpy as np\n",
    "\n",
    "# 모델 생성\n",
    "dt_clf = DecisionTreeClassifier(random_state=56)\n",
    "\n",
    "# fold 나누기\n",
    "kfold = KFold(5)\n",
    "cv_accuracy = []\n",
    "\n",
    "for train_index, test_index in kfold.split(x_titanic_df):\n",
    "    x_train, x_test = x_titanic_df.iloc[train_index], x_titanic_df.iloc[test_index]\n",
    "    y_train, y_test = y_titanic_df.iloc[train_index], y_titanic_df.iloc[test_index]\n",
    "\n",
    "    # 모델 학습\n",
    "    dt_clf.fit(x_train,y_train)\n",
    "    pred = dt_clf.predict(x_test)\n",
    "\n",
    "    # 모델 예측\n",
    "    accuracy = np.round(accuracy_score(y_test,pred),4)\n",
    "    cv_accuracy.append(accuracy)\n",
    "\n",
    "print(cv_accuracy)\n",
    "print(np.mean(cv_accuracy))"
   ]
  },
  {
   "cell_type": "code",
   "execution_count": 5,
   "metadata": {},
   "outputs": [
    {
     "name": "stdout",
     "output_type": "stream",
     "text": [
      "0.8651685393258427 \n",
      " 0.819672131147541 \n",
      " 0.7936507936507936\n"
     ]
    }
   ],
   "source": [
    "from sklearn.model_selection import GridSearchCV\n",
    "from sklearn.metrics import precision_score\n",
    "from sklearn.metrics import recall_score\n",
    "\n",
    "parameters = {'max_depth' : [2,3,5,10], 'min_samples_split' : [2,3,5], \"min_samples_leaf\" : [1,5,8]}\n",
    "\n",
    "grid_dclf = GridSearchCV(dt_clf,param_grid=parameters,scoring='accuracy',cv=5)\n",
    "grid_dclf.fit(x_train,y_train)\n",
    "\n",
    "best_est = grid_dclf.best_estimator_\n",
    "\n",
    "dprediction = best_est.predict(x_test)\n",
    "\n",
    "accuracy = accuracy_score(y_test,dprediction)\n",
    "precision = precision_score(y_test,dprediction)\n",
    "recall = recall_score(y_test,dprediction)\n",
    "\n",
    "print(accuracy,\"\\n\",precision,\"\\n\",recall)"
   ]
  },
  {
   "cell_type": "code",
   "execution_count": null,
   "metadata": {},
   "outputs": [],
   "source": [
    "# 그래프 시각화\n",
    "import os\n",
    "os.environ[\"PATH\"]+=os.pathsep+'C:/Program Files/Graphviz/bin'\n",
    "\n",
    "from sklearn.tree import export_graphviz\n",
    "import graphviz\n",
    "\n",
    "export_graphviz(best_est, out_file='tree.dot',class_names=y_titanic_df.name,feature_names=x_titanic_df.columns,impurity=True,filled=True)\n",
    "\n",
    "with open('tree.dot') as f:\n",
    "    dot_graph = f.read()\n",
    "graphviz.Source(dot_graph)\n"
   ]
  },
  {
   "cell_type": "code",
   "execution_count": 24,
   "metadata": {},
   "outputs": [
    {
     "name": "stdout",
     "output_type": "stream",
     "text": [
      "Featuer Importances : \n",
      "[0.136 0.506 0.107 0.022 0.    0.143 0.077 0.009]\n",
      "Pclass : 0.136\n",
      "Sex : 0.506\n",
      "Age : 0.107\n",
      "SibSp : 0.022\n",
      "Parch : 0.000\n",
      "Fare : 0.143\n",
      "Cabin : 0.077\n",
      "Embarked : 0.009\n"
     ]
    },
    {
     "data": {
      "text/plain": [
       "<AxesSubplot:>"
      ]
     },
     "execution_count": 24,
     "metadata": {},
     "output_type": "execute_result"
    },
    {
     "data": {
      "image/png": "[encoded data removed]",
      "text/plain": [
       "<Figure size 432x288 with 1 Axes>"
      ]
     },
     "metadata": {},
     "output_type": "display_data"
    }
   ],
   "source": [
    "import seaborn as sns\n",
    "import numpy as np\n",
    "%matplotlib inline\n",
    "\n",
    "# feature importance 추출\n",
    "print(\"Featuer Importances : \\n{}\".format(np.round(best_est.feature_importances_,3)))\n",
    "\n",
    "# feature별 importance 매칭\n",
    "for name, value in zip(x_titanic_df.columns, best_est.feature_importances_):\n",
    "    print(\"{0} : {1:.3f}\".format(name, value))\n",
    "\n",
    "# feature importance를 column별로 시각화 하기\n",
    "sns.set_style(\"ticks\")\n",
    "sns.barplot(x = best_est.feature_importances_, y = x_titanic_df.columns)"
   ]
  },
  {
   "cell_type": "code",
   "execution_count": null,
   "metadata": {},
   "outputs": [],
   "source": []
  }
 ],
 "metadata": {
  "interpreter": {
   "hash": "83d3e1d533d06a5ed13bdd408cfdbe5752516a627e355ce33664633b6ff4534e"
  },
  "kernelspec": {
   "display_name": "Python 3.9.7 ('base')",
   "language": "python",
   "name": "python3"
  },
  "language_info": {
   "codemirror_mode": {
    "name": "ipython",
    "version": 3
   },
   "file_extension": ".py",
   "mimetype": "text/x-python",
   "name": "python",
   "nbconvert_exporter": "python",
   "pygments_lexer": "ipython3",
   "version": "3.9.7"
  },
  "orig_nbformat": 4
 },
 "nbformat": 4,
 "nbformat_minor": 2
}
