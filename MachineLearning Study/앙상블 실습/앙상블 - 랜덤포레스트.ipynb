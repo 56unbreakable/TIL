{
 "cells": [
  {
   "cell_type": "code",
   "execution_count": 2,
   "metadata": {},
   "outputs": [],
   "source": [
    "import pandas as pd\n",
    "\n",
    "# 데이터 불러오기, \\s+ 는 공백이 하나 이상이라는 뜻\n",
    "feature_name_df = pd.read_csv(\"../../data files/human_activity/features.txt\",sep = '\\s+', header = None, names = ['column_index','column_name'])\n",
    "\n",
    "# 중복된 feature에 인덱스를 붙여 중복을 피하게 하는 함수 생성\n",
    "def get_new_feature_name(old_feature_name_df):\n",
    "    # cumcount 함수를 사용하여 몇번째 중복인지 확인. cumcount는 중복이 발생할경우 1씩 올라간다.\n",
    "    feature_dup_df = pd.DataFrame(data=old_feature_name_df.groupby('column_name').cumcount(),columns=['dup_cnt'])\n",
    "\n",
    "    # 인덱스를 새로 추가\n",
    "    feature_dup_df = feature_dup_df.reset_index()\n",
    "\n",
    "    # feature name이 들어있는 data frame과 중복 feature 정보가 들어있는 data frame을 index 기준으로 모든 행을 병합\n",
    "    new_feature_name_df = pd.merge(old_feature_name_df.reset_index(),feature_dup_df,how='outer')\n",
    "\n",
    "    # 중복되는 feature name에 숫자 부여. 숫자는 dup_cnt에 의해 중복된 순서만큼 부여됨. 예를들어 2번째 중복이면 '_2'가 부여됨\n",
    "    new_feature_name_df['column_name'] = new_feature_name_df[['column_name','dup_cnt']].apply(lambda x : x[0]+'_'+str(x[1]) if x[1] > 0 else x[0], axis =1)\n",
    "\n",
    "    # index는 필요없으니 삭제함.\n",
    "    new_feature_name_df = new_feature_name_df.drop(['index'],axis=1)\n",
    "    return new_feature_name_df\n",
    "\n",
    "# 데이터 로딩\n",
    "def get_human_dataset():\n",
    "    # 각 데이터파일들은 공백으로 분리되어 있기 때문에 공백문자를 sep로 할당.\n",
    "    feature_name_df = pd.read_csv('../../data files/human_activity/features.txt',sep='\\s+',header=None,names=['column_index','column_name'])\n",
    "    \n",
    "    # 중복된 feature명을 수정\n",
    "    new_feature_name_df = get_new_feature_name(feature_name_df)\n",
    "\n",
    "    # data frame에 피처명을 컬럼으로 부여하기위해 리스트 객체로 다시 변환 모든 feature name은 1번째 열에 있음.\n",
    "    feature_name = new_feature_name_df.iloc[:,1].values.tolist()\n",
    "\n",
    "    # 학습 feature 데이터 셋과 테스트 feature 데이터를 dataframe으로 로딩. 컬럼은  feature_name 적용\n",
    "    x_train = pd.read_csv('../../data files/human_activity/train/X_train.txt',sep='\\s+',names=feature_name)\n",
    "    x_test = pd.read_csv('../../data files/human_activity/test/X_test.txt',sep='\\s+',names=feature_name)\n",
    "\n",
    "    # 학습 label과 테스트 label 데이터를 data frame으로 로딩하고 컬럼명은 action으로 부여\n",
    "    y_train = pd.read_csv('../../data files/human_activity/train/y_train.txt',sep='\\s+',names=['action'])\n",
    "    y_test = pd.read_csv('../../data files/human_activity/test/y_test.txt',sep='\\s+',names=['action'])\n",
    "\n",
    "    # 로드된 학습/테스트용 데이터프레임을 모두 반환\n",
    "    return x_train,x_test,y_train,y_test\n",
    "\n",
    "# 데이터 준비\n",
    "x_train, x_test, y_train, y_test = get_human_dataset()"
   ]
  },
  {
   "cell_type": "code",
   "execution_count": 10,
   "metadata": {},
   "outputs": [
    {
     "name": "stdout",
     "output_type": "stream",
     "text": [
      "Random Forest Accuracy : 0.9233\n"
     ]
    },
    {
     "data": {
      "text/plain": [
       "{'bootstrap': True,\n",
       " 'ccp_alpha': 0.0,\n",
       " 'class_weight': None,\n",
       " 'criterion': 'gini',\n",
       " 'max_depth': None,\n",
       " 'max_features': 'auto',\n",
       " 'max_leaf_nodes': None,\n",
       " 'max_samples': None,\n",
       " 'min_impurity_decrease': 0.0,\n",
       " 'min_impurity_split': None,\n",
       " 'min_samples_leaf': 1,\n",
       " 'min_samples_split': 2,\n",
       " 'min_weight_fraction_leaf': 0.0,\n",
       " 'n_estimators': 100,\n",
       " 'n_jobs': None,\n",
       " 'oob_score': False,\n",
       " 'random_state': 56,\n",
       " 'verbose': 0,\n",
       " 'warm_start': False}"
      ]
     },
     "execution_count": 10,
     "metadata": {},
     "output_type": "execute_result"
    }
   ],
   "source": [
    "from sklearn.ensemble import RandomForestClassifier\n",
    "from sklearn.metrics import accuracy_score\n",
    "import warnings\n",
    "warnings.filterwarnings('ignore')\n",
    "\n",
    "# 랜덤 포레스트 학습 및 별도의 테스트 셋으로 예측성능평가\n",
    "rf_clf = RandomForestClassifier(random_state=56)\n",
    "rf_clf.fit(x_train,y_train)\n",
    "pred_rf = rf_clf.predict(x_test)\n",
    "accuracy = accuracy_score(y_test,pred_rf)\n",
    "print(\"Random Forest Accuracy : {:.4f}\".format(accuracy))\n",
    "rf_clf.get_params()"
   ]
  },
  {
   "cell_type": "code",
   "execution_count": 11,
   "metadata": {},
   "outputs": [
    {
     "name": "stdout",
     "output_type": "stream",
     "text": [
      "최적 하이퍼 파라미터 :  {'max_depth': 14, 'min_samples_leaf': 18, 'min_samples_split': 8, 'n_estimators': 100}\n",
      "최고 예측 정확도 0.9199\n"
     ]
    }
   ],
   "source": [
    "# 하이퍼 파라미터 설정\n",
    "from sklearn.model_selection import GridSearchCV\n",
    "\n",
    "params = {'n_estimators' : [100],\n",
    "          'max_depth' : [6,8,10,12,14,16,18,20], \n",
    "          'min_samples_leaf' : [1,2,4,6,8,12,18,24], \n",
    "          'min_samples_split' : [8,16,20,24]\n",
    "          }\n",
    "\n",
    "# random forest classifier 객체 생성 후 grid search cv 수행, n_jobs = -1 로 설정하면 모든 cpu의 코어를 사용하여 속도가 빨라짐.\n",
    "rf_clf = RandomForestClassifier(random_state=56)\n",
    "grid_cv = GridSearchCV(rf_clf,param_grid=params, cv=3)\n",
    "grid_cv.fit(x_train,y_train)\n",
    "\n",
    "print(\"최적 하이퍼 파라미터 : \",grid_cv.best_params_)\n",
    "print(\"최고 예측 정확도 {:.4f}\".format(grid_cv.best_score_))"
   ]
  },
  {
   "cell_type": "code",
   "execution_count": null,
   "metadata": {},
   "outputs": [],
   "source": []
  }
 ],
 "metadata": {
  "interpreter": {
   "hash": "83d3e1d533d06a5ed13bdd408cfdbe5752516a627e355ce33664633b6ff4534e"
  },
  "kernelspec": {
   "display_name": "Python 3.9.7 ('base')",
   "language": "python",
   "name": "python3"
  },
  "language_info": {
   "codemirror_mode": {
    "name": "ipython",
    "version": 3
   },
   "file_extension": ".py",
   "mimetype": "text/x-python",
   "name": "python",
   "nbconvert_exporter": "python",
   "pygments_lexer": "ipython3",
   "version": "3.9.7"
  },
  "orig_nbformat": 4
 },
 "nbformat": 4,
 "nbformat_minor": 2
}
