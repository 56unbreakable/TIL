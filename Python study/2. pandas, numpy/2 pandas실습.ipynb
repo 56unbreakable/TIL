{
 "cells": [
  {
   "cell_type": "code",
   "execution_count": 1,
   "metadata": {},
   "outputs": [
    {
     "name": "stdout",
     "output_type": "stream",
     "text": [
      "<class 'pandas.core.series.Series'>\n",
      "a    1\n",
      "b    2\n",
      "c    3\n",
      "dtype: int64\n"
     ]
    }
   ],
   "source": [
    "# 딕셔너리를 시리즈로 변환\n",
    "import pandas as pd\n",
    "data = {'a':1,'b':2,'c':3}\n",
    "sr=pd.Series(data)\n",
    "print(type(sr))\n",
    "print(sr)"
   ]
  },
  {
   "cell_type": "code",
   "execution_count": 2,
   "metadata": {},
   "outputs": [
    {
     "name": "stdout",
     "output_type": "stream",
     "text": [
      "0    2019-01-02\n",
      "1          3.14\n",
      "2           ABC\n",
      "3           100\n",
      "4          True\n",
      "dtype: object\n"
     ]
    }
   ],
   "source": [
    "# 리스트를 시리즈로 변환\n",
    "import pandas as pd\n",
    "list_data = ['2019-01-02',3.14,'ABC',100,True]\n",
    "sr = pd.Series(list_data)\n",
    "print(sr)"
   ]
  },
  {
   "cell_type": "code",
   "execution_count": 20,
   "metadata": {},
   "outputs": [
    {
     "name": "stdout",
     "output_type": "stream",
     "text": [
      "RangeIndex(start=0, stop=5, step=1) \n",
      " ['2019-01-02' 3.14 'ABC' 100 True]\n"
     ]
    }
   ],
   "source": [
    "import pandas as pd\n",
    "list_data = ['2019-01-02',3.14,'ABC',100,True]\n",
    "sr = pd.Series(list_data)\n",
    "\n",
    "idx = sr.index\n",
    "val = sr.values\n",
    "print(idx, '\\n', val)"
   ]
  },
  {
   "cell_type": "code",
   "execution_count": 55,
   "metadata": {},
   "outputs": [
    {
     "name": "stdout",
     "output_type": "stream",
     "text": [
      "이름              민수\n",
      "생년월일    2017-04-08\n",
      "성별              du\n",
      "학생여부          True\n",
      "dtype: object\n",
      "\n",
      "\n",
      "민수\n",
      "\n",
      "\n",
      "이름    민수\n",
      "성별    du\n",
      "dtype: object\n"
     ]
    }
   ],
   "source": [
    "# 튜플 -> 시리즈로 변환\n",
    "import pandas as pd\n",
    "tup_data = ('민수','2017-04-08','du',True)\n",
    "sr = pd.Series(tup_data, index = ['이름','생년월일','성별','학생여부'])\n",
    "print(sr)\n",
    "print('\\n')\n",
    "print(sr['이름'])\n",
    "print('\\n')\n",
    "print(sr[['이름','성별']])\n"
   ]
  },
  {
   "cell_type": "code",
   "execution_count": 3,
   "metadata": {},
   "outputs": [
    {
     "name": "stdout",
     "output_type": "stream",
     "text": [
      "    나이 성별   학교\n",
      "준서  15  남  덕명중\n",
      "예은  17  여  수리중\n",
      "\n",
      "\n",
      "     연령 남녀   소속\n",
      "st1  15  남  덕명중\n",
      "st2  17  여  수리중\n",
      "\n",
      "\n",
      "           연령      남녀         소속\n",
      "student 1  15    male  deokmyeon\n",
      "student 2  17  female       suri\n"
     ]
    }
   ],
   "source": [
    "# 리스트를 데이터프레임으로 변환\n",
    "# index, column을 넣지 않으면 0,1,2로 index,column이 들어가게된다.\n",
    "import pandas as pd\n",
    "df = pd.DataFrame([[15,'남','덕명중'],[17,'여','수리중']], index=['준서','예은'],columns=['나이','성별','학교'])\n",
    "print(df)\n",
    "print('\\n')\n",
    "df.index = ['st1','st2']\n",
    "df.columns = ['연령','남녀','소속']\n",
    "print(df)\n",
    "print('\\n')\n",
    "\n",
    "# inplace = False 이면 df의 original column, index는 건드리지 않겠다.\n",
    "import pandas as pd\n",
    "df = pd.DataFrame([[15,'male','deokmyeon'],[17,'female','suri']],index=['junseo' , 'yeun'],columns=['age','sex','school'])\n",
    "\n",
    "df.rename(columns={'age' : '연령', 'sex' : '남녀', 'school': '소속'},inplace=True)\n",
    "df.rename(index={'junseo':'student 1', 'yeun':'student 2'},inplace=True)\n",
    "\n",
    "print(df)"
   ]
  },
  {
   "cell_type": "code",
   "execution_count": 57,
   "metadata": {},
   "outputs": [
    {
     "name": "stdout",
     "output_type": "stream",
     "text": [
      "   0\n",
      "4  1\n",
      "5  2\n",
      "6  3 \n",
      "    a  b  c   d\n",
      "0  1  4  7  10\n",
      "1  2  5  8  11\n",
      "2  3  6  9  12\n"
     ]
    }
   ],
   "source": [
    "# 데이터프레임 만들기.\n",
    "import pandas as pd\n",
    "x = [1,2,3]\n",
    "y = [4,5,6]\n",
    "\n",
    "df = pd.DataFrame(x ,y)\n",
    "\n",
    "df_data = {'a':[1,2,3],'b':[4,5,6],'c':[7,8,9],'d':[10,11,12]}\n",
    "dff = pd.DataFrame(df_data)\n",
    "print(df,'\\n',dff)"
   ]
  },
  {
   "cell_type": "code",
   "execution_count": 41,
   "metadata": {},
   "outputs": [
    {
     "name": "stdout",
     "output_type": "stream",
     "text": [
      "    수학  영어   음악   체육\n",
      "서준  90  98   85  100\n",
      "우현  80  89   95   90\n",
      "인아  70  95  100   90 \n",
      "\n",
      "    수학  영어   음악   체육\n",
      "서준  90  98   85  100\n",
      "인아  70  95  100   90 \n",
      "\n"
     ]
    }
   ],
   "source": [
    "# DataFrame 객체.drop( 행 인덱스 또는 배열, axis = 0)\n",
    "# DataFrame 객체.drop( 열 인덱스 또는 배열, axis = 1)\n",
    "# 행 삭제 로우네임과 axis = 0으로 해야한다.\n",
    "import pandas as pd\n",
    "data = {'수학':[90,80,70],'영어':[98,89,95],'음악':[85,95,100],'체육':[100,90,90]}\n",
    "\n",
    "df = pd.DataFrame(data, index = ['서준','우현','인아'])\n",
    "print(df,'\\n')\n",
    "\n",
    "df2 = df.copy()\n",
    "df.drop('우현',axis = 0, inplace=True)\n",
    "print(df,'\\n')"
   ]
  },
  {
   "cell_type": "code",
   "execution_count": 42,
   "metadata": {},
   "outputs": [
    {
     "name": "stdout",
     "output_type": "stream",
     "text": [
      "    수학  영어   음악   체육\n",
      "서준  90  98   85  100\n",
      "우현  80  89   95   90\n",
      "인아  70  95  100   90 \n",
      "\n",
      "    영어   음악   체육\n",
      "서준  98   85  100\n",
      "우현  89   95   90\n",
      "인아  95  100   90 \n",
      "\n"
     ]
    }
   ],
   "source": [
    "# 열 삭제\n",
    "import pandas as pd\n",
    "data = {'수학':[90,80,70],'영어':[98,89,95],'음악':[85,95,100],'체육':[100,90,90]}\n",
    "\n",
    "df = pd.DataFrame(data, index = ['서준','우현','인아'])\n",
    "print(df,'\\n')\n",
    "\n",
    "df4 = df.copy()\n",
    "df4.drop('수학',axis=1,inplace=True)\n",
    "print(df4,'\\n')\n"
   ]
  },
  {
   "cell_type": "code",
   "execution_count": 43,
   "metadata": {},
   "outputs": [
    {
     "name": "stdout",
     "output_type": "stream",
     "text": [
      "    수학  영어   음악   체육\n",
      "서준  90  98   85  100\n",
      "우현  80  89   95   90\n",
      "인아  70  95  100   90 \n",
      "\n",
      "수학     90\n",
      "영어     98\n",
      "음악     85\n",
      "체육    100\n",
      "Name: 서준, dtype: int64\n",
      "\n",
      "\n",
      "<pandas.core.indexing._iLocIndexer object at 0x0000023506622770>\n",
      "<class 'pandas.core.series.Series'>\n"
     ]
    }
   ],
   "source": [
    "# 행 선택\n",
    "import pandas as pd\n",
    "data = {'수학':[90,80,70],'영어':[98,89,95],'음악':[85,95,100],'체육':[100,90,90]}\n",
    "\n",
    "df = pd.DataFrame(data, index = ['서준','우현','인아'])\n",
    "print(df,'\\n')\n",
    "\n",
    "label1 = df.loc['서준']\n",
    "position1 = df.iloc\n",
    "print(label1)\n",
    "print('\\n')\n",
    "print(position1)\n",
    "\n",
    "print(type(label1))"
   ]
  },
  {
   "cell_type": "code",
   "execution_count": 44,
   "metadata": {},
   "outputs": [
    {
     "name": "stdout",
     "output_type": "stream",
     "text": [
      "    수학  영어  음악   체육\n",
      "서준  90  98  85  100\n",
      "우현  80  89  95   90\n",
      "\n",
      "\n",
      "    수학  영어  음악   체육\n",
      "서준  90  98  85  100\n",
      "우현  80  89  95   90\n",
      "<class 'pandas.core.frame.DataFrame'>\n"
     ]
    }
   ],
   "source": [
    "label2 = df.loc[['서준','우현']]\n",
    "position2 = df.iloc[[0,1]]\n",
    "print(label2)\n",
    "print('\\n')\n",
    "print(position2)\n",
    "\n",
    "print(type(label2))"
   ]
  },
  {
   "cell_type": "code",
   "execution_count": 45,
   "metadata": {},
   "outputs": [
    {
     "name": "stdout",
     "output_type": "stream",
     "text": [
      "    수학  영어  음악   체육\n",
      "서준  90  98  85  100\n",
      "우현  80  89  95   90\n",
      "\n",
      "\n",
      "    수학  영어  음악   체육\n",
      "서준  90  98  85  100\n",
      "<class 'pandas.core.frame.DataFrame'>\n"
     ]
    }
   ],
   "source": [
    "label3 = df.loc['서준':'우현']\n",
    "position3 = df.iloc[0:1]\n",
    "print(label3)\n",
    "print('\\n')\n",
    "print(position3)\n",
    "\n",
    "print(type(label3))"
   ]
  },
  {
   "cell_type": "code",
   "execution_count": 107,
   "metadata": {},
   "outputs": [
    {
     "name": "stdout",
     "output_type": "stream",
     "text": [
      "   이름  수학  영어   음악   체육\n",
      "0  서준  90  98   85  100\n",
      "1  우현  80  89   95   90\n",
      "2  인아  70  95  100   90 \n",
      "\n",
      "<class 'pandas.core.series.Series'> \n",
      "\n",
      "    음악   체육\n",
      "0   85  100\n",
      "1   95   90\n",
      "2  100   90 \n",
      "\n",
      "<class 'pandas.core.frame.DataFrame'>\n"
     ]
    },
    {
     "data": {
      "text/html": [
       "<div>\n",
       "<style scoped>\n",
       "    .dataframe tbody tr th:only-of-type {\n",
       "        vertical-align: middle;\n",
       "    }\n",
       "\n",
       "    .dataframe tbody tr th {\n",
       "        vertical-align: top;\n",
       "    }\n",
       "\n",
       "    .dataframe thead th {\n",
       "        text-align: right;\n",
       "    }\n",
       "</style>\n",
       "<table border=\"1\" class=\"dataframe\">\n",
       "  <thead>\n",
       "    <tr style=\"text-align: right;\">\n",
       "      <th></th>\n",
       "      <th>이름</th>\n",
       "      <th>수학</th>\n",
       "      <th>영어</th>\n",
       "      <th>음악</th>\n",
       "      <th>체육</th>\n",
       "    </tr>\n",
       "  </thead>\n",
       "  <tbody>\n",
       "    <tr>\n",
       "      <th>2</th>\n",
       "      <td>인아</td>\n",
       "      <td>70</td>\n",
       "      <td>95</td>\n",
       "      <td>100</td>\n",
       "      <td>90</td>\n",
       "    </tr>\n",
       "    <tr>\n",
       "      <th>1</th>\n",
       "      <td>우현</td>\n",
       "      <td>80</td>\n",
       "      <td>89</td>\n",
       "      <td>95</td>\n",
       "      <td>90</td>\n",
       "    </tr>\n",
       "    <tr>\n",
       "      <th>0</th>\n",
       "      <td>서준</td>\n",
       "      <td>90</td>\n",
       "      <td>98</td>\n",
       "      <td>85</td>\n",
       "      <td>100</td>\n",
       "    </tr>\n",
       "  </tbody>\n",
       "</table>\n",
       "</div>"
      ],
      "text/plain": [
       "   이름  수학  영어   음악   체육\n",
       "2  인아  70  95  100   90\n",
       "1  우현  80  89   95   90\n",
       "0  서준  90  98   85  100"
      ]
     },
     "execution_count": 107,
     "metadata": {},
     "output_type": "execute_result"
    }
   ],
   "source": [
    "# 열 선택\n",
    "data = {'이름':['서준','우현','인아'],'수학':[90,80,70],'영어':[98,89,95],'음악':[85,95,100],'체육':[100,90,90]} \n",
    "df = pd.DataFrame(data)\n",
    "print(df,'\\n')\n",
    "\n",
    "math1 = df['수학']\n",
    "print(type(math1),'\\n')\n",
    "\n",
    "mg = df[['음악','체육']]\n",
    "print(mg,'\\n')\n",
    "print(type(mg))\n",
    "\n",
    "# 인덱스 출력\n",
    "df.iloc[ : : 2]\n",
    "\n",
    "# -1이면 역순으로 출력\n",
    "df.iloc[ : : -1]\n"
   ]
  },
  {
   "cell_type": "code",
   "execution_count": 106,
   "metadata": {},
   "outputs": [
    {
     "name": "stdout",
     "output_type": "stream",
     "text": [
      "   이름  수학  영어   음악   체육\n",
      "0  서준  90  98   85  100\n",
      "1  우현  80  89   95   90\n",
      "2  인아  70  95  100   90 \n",
      "\n",
      "    수학  영어   음악   체육\n",
      "이름                  \n",
      "서준  90  98   85  100\n",
      "우현  80  89   95   90\n",
      "인아  70  95  100   90\n",
      "\n",
      "\n",
      "85\n",
      "\n",
      "\n",
      "    수학  영어   음악   체육  국어\n",
      "이름                      \n",
      "서준  90  98   85  100  80\n",
      "우현  80  89   95   90  80\n",
      "인아  70  95  100   90  80\n"
     ]
    }
   ],
   "source": [
    "# '이름'열을 새로운 인덱스로 지정.\n",
    "data = {'이름':['서준','우현','인아'],'수학':[90,80,70],'영어':[98,89,95],'음악':[85,95,100],'체육':[100,90,90]} \n",
    "df = pd.DataFrame(data)\n",
    "print(df,'\\n')\n",
    "\n",
    "df.set_index('이름',inplace= True)\n",
    "print(df)\n",
    "print('\\n')\n",
    "\n",
    "# 원소 선택\n",
    "a = df.loc['서준','음악']\n",
    "print(a)\n",
    "print('\\n')\n",
    "\n",
    "# 열 추가\n",
    "df['국어'] = 80\n",
    "print(df)\n"
   ]
  },
  {
   "cell_type": "code",
   "execution_count": 108,
   "metadata": {},
   "outputs": [
    {
     "name": "stdout",
     "output_type": "stream",
     "text": [
      "   이름  수학  영어   음악   체육\n",
      "0  서준  90  98   85  100\n",
      "1  우현  80  89   95   90\n",
      "2  인아  70  95  100   90 \n",
      "\n",
      "    이름  수학  영어   음악   체육\n",
      "0   서준  90  98   85  100\n",
      "1   우현  80  89   95   90\n",
      "2   인아  70  95  100   90\n",
      "우성  90  90  90   90   90 \n",
      "\n",
      "    이름  수학  영어   음악   체육\n",
      "0   서준  90  98   85  100\n",
      "1   우현  80  89   95   90\n",
      "2   인아  70  95  100   90\n",
      "우성  90  90  90   90   90\n",
      "3    0   0   0    0    0 \n",
      "\n",
      "    이름  수학  영어   음악   체육\n",
      "0   서준  90  98   85  100\n",
      "1   우현  80  89   95   90\n",
      "2   인아  70  95  100   90\n",
      "우성  90  90  90   90   90\n",
      "3    0   0   0    0    0\n",
      "4   동규  90  80   70   60 \n",
      "\n"
     ]
    }
   ],
   "source": [
    "# 행 추가\n",
    "data = {'이름':['서준','우현','인아'],'수학':[90,80,70],'영어':[98,89,95],'음악':[85,95,100],'체육':[100,90,90]} \n",
    "df = pd.DataFrame(data)\n",
    "print(df,'\\n')\n",
    "\n",
    "df.loc['우성'] = 90\n",
    "print(df,'\\n')\n",
    "\n",
    "df.loc[3]=0\n",
    "print(df,'\\n')\n",
    "\n",
    "df.loc[4] = ['동규',90,80,70,60]\n",
    "print(df,'\\n')"
   ]
  },
  {
   "cell_type": "code",
   "execution_count": 113,
   "metadata": {},
   "outputs": [
    {
     "name": "stdout",
     "output_type": "stream",
     "text": [
      "    수학  영어   음악   체육\n",
      "이름                  \n",
      "서준  90  98   85  100\n",
      "우현  80  89   95   90\n",
      "인아  70  95  100   90 \n",
      "\n",
      "    수학  영어   음악  체육\n",
      "이름                 \n",
      "서준  90  98   85  80\n",
      "우현  80  89   95  90\n",
      "인아  70  95  100  90 \n",
      "\n",
      "    수학  영어   음악  체육\n",
      "이름                 \n",
      "서준  90  98   85  90\n",
      "우현  80  89   95  90\n",
      "인아  70  95  100  90 \n",
      "\n",
      "    수학  영어   음악   체육\n",
      "이름                  \n",
      "서준  90  98   85  100\n",
      "우현  80  89   95   90\n",
      "인아  70  95  100   90 \n",
      "\n"
     ]
    }
   ],
   "source": [
    "# 원소 값 변경\n",
    "data = {'이름':['서준','우현','인아'],'수학':[90,80,70],'영어':[98,89,95],'음악':[85,95,100],'체육':[100,90,90]} \n",
    "df = pd.DataFrame(data)\n",
    "\n",
    "# df의 열을 새로운 인덱스로 지정\n",
    "df.set_index('이름',inplace= True)\n",
    "print(df,'\\n')\n",
    "\n",
    "# 원소값변경\n",
    "df.iloc[0][3] = 80\n",
    "print(df,'\\n')\n",
    "\n",
    "df.loc['서준']['체육'] = 90\n",
    "print(df,'\\n')\n",
    "\n",
    "df.loc['서준','체육'] = 100 \n",
    "print(df,'\\n')"
   ]
  },
  {
   "cell_type": "code",
   "execution_count": 117,
   "metadata": {},
   "outputs": [
    {
     "name": "stdout",
     "output_type": "stream",
     "text": [
      "    수학  영어   음악  체육\n",
      "이름                 \n",
      "서준  90  98   50  50\n",
      "우현  80  89   95  90\n",
      "인아  70  95  100  90 \n",
      "\n",
      "    수학  영어   음악   체육\n",
      "이름                  \n",
      "서준  90  98   70  100\n",
      "우현  80  89   95   90\n",
      "인아  70  95  100   90 \n",
      "\n",
      "    수학  영어   음악   체육\n",
      "이름                  \n",
      "서준  90  98   70  100\n",
      "우현  80  89   95   90\n",
      "인아  70  95  100   90 \n",
      "\n"
     ]
    }
   ],
   "source": [
    "df.loc['서준',['음악','체육']] = 50\n",
    "print(df,'\\n')\n",
    "\n",
    "df.loc['서준',['음악','체육']] = 70 ,100\n",
    "print(df,'\\n')\n",
    "\n",
    "df.loc['서준']['음악','체육'] = 70 ,100\n",
    "print(df,'\\n')\n"
   ]
  },
  {
   "cell_type": "code",
   "execution_count": 120,
   "metadata": {},
   "outputs": [
    {
     "name": "stdout",
     "output_type": "stream",
     "text": [
      "   이름  수학  영어   음악   체육\n",
      "0  서준  90  98   85  100\n",
      "1  우현  80  89   95   90\n",
      "2  인아  70  95  100   90 \n",
      "\n",
      "      0   1    2\n",
      "이름   서준  우현   인아\n",
      "수학   90  80   70\n",
      "영어   98  89   95\n",
      "음악   85  95  100\n",
      "체육  100  90   90 \n",
      "\n"
     ]
    }
   ],
   "source": [
    "# dataframe 행, 열의 위치 바꾸기\n",
    "data = {'이름':['서준','우현','인아'],'수학':[90,80,70],'영어':[98,89,95],'음악':[85,95,100],'체육':[100,90,90]} \n",
    "df = pd.DataFrame(data)\n",
    "print(df,'\\n')\n",
    "\n",
    "# 행,열 바꾸기\n",
    "df = df.transpose()\n",
    "print(df,'\\n')"
   ]
  },
  {
   "cell_type": "code",
   "execution_count": 121,
   "metadata": {},
   "outputs": [
    {
     "name": "stdout",
     "output_type": "stream",
     "text": [
      "    수학  영어   음악   체육\n",
      "이름                  \n",
      "서준  90  98   85  100\n",
      "우현  80  89   95   90\n",
      "인아  70  95  100   90 \n",
      "\n",
      "이름   서준  우현   인아\n",
      "수학   90  80   70\n",
      "영어   98  89   95\n",
      "음악   85  95  100\n",
      "체육  100  90   90 \n",
      "\n"
     ]
    }
   ],
   "source": [
    "# dataframe 행, 열의 위치 바꾸기\n",
    "data = {'이름':['서준','우현','인아'],'수학':[90,80,70],'영어':[98,89,95],'음악':[85,95,100],'체육':[100,90,90]} \n",
    "df = pd.DataFrame(data)\n",
    "df.set_index('이름',inplace= True)\n",
    "print(df,'\\n')\n",
    "\n",
    "# 행,열 바꾸기\n",
    "df = df.transpose()\n",
    "print(df,'\\n')"
   ]
  },
  {
   "cell_type": "code",
   "execution_count": 140,
   "metadata": {},
   "outputs": [
    {
     "name": "stdout",
     "output_type": "stream",
     "text": [
      "   이름  수학  영어   음악   체육\n",
      "0  서준  90  98   85  100\n",
      "1  우현  80  89   95   90\n",
      "2  인아  70  95  100   90 \n",
      "\n",
      "    수학  영어   음악   체육\n",
      "이름                  \n",
      "서준  90  98   85  100\n",
      "우현  80  89   95   90\n",
      "인아  70  95  100   90 \n",
      "\n",
      "     수학  영어   체육\n",
      "음악              \n",
      "85   90  98  100\n",
      "95   80  89   90\n",
      "100  70  95   90 \n",
      "\n",
      "        영어   체육\n",
      "음악  수학         \n",
      "85  90  98  100\n",
      "95  80  89   90\n",
      "100 70  95   90 \n",
      "\n"
     ]
    }
   ],
   "source": [
    "data = {'이름':['서준','우현','인아'],'수학':[90,80,70],'영어':[98,89,95],'음악':[85,95,100],'체육':[100,90,90]} \n",
    "df = pd.DataFrame(data)\n",
    "print(df,'\\n')\n",
    "\n",
    "\n",
    "# 특정 열을 행 인덱스로 설정\n",
    "ndf = df.set_index(['이름'])\n",
    "print(ndf,'\\n')\n",
    "\n",
    "# ndf의 원래 행 인덱스를 삭제하고 새로운 열을 행의 인덱스로 지정\n",
    "ndf2 = ndf.set_index(['음악'])\n",
    "print(ndf2,'\\n')\n",
    "\n",
    "# ndf의 원래 행 인덱스를 삭제하고 새로운 열 2개를 행 인덱스로 지정\n",
    "ndf3 = ndf.set_index(['음악','수학'])\n",
    "print(ndf3,'\\n')\n"
   ]
  },
  {
   "cell_type": "code",
   "execution_count": 139,
   "metadata": {},
   "outputs": [
    {
     "name": "stdout",
     "output_type": "stream",
     "text": [
      "    영어   체육\n",
      "수학         \n",
      "90  98  100\n",
      "영어     98\n",
      "체육    100\n",
      "Name: (85, 90), dtype: int64\n"
     ]
    }
   ],
   "source": [
    "# 행의 인덱스를 하나만 쓸 경우\n",
    "print(ndf3.loc[85])\n",
    "\n",
    "#행의 인덱스를 두개 다 쓸 경우\n",
    "print(ndf3.loc[85,90])"
   ]
  },
  {
   "cell_type": "code",
   "execution_count": 144,
   "metadata": {},
   "outputs": [
    {
     "name": "stdout",
     "output_type": "stream",
     "text": [
      "    c0  c1  c2  c4\n",
      "r0   1   4   7  10\n",
      "r1   2   5   8  11\n",
      "r2   3   6   9  12 \n",
      "\n",
      "     c0   c1   c2    c4\n",
      "r0  1.0  4.0  7.0  10.0\n",
      "r1  2.0  5.0  8.0  11.0\n",
      "r2  3.0  6.0  9.0  12.0\n",
      "r3  NaN  NaN  NaN   NaN\n",
      "r4  NaN  NaN  NaN   NaN \n",
      "\n",
      "    c0  c1  c2  c4\n",
      "r0   1   4   7  10\n",
      "r1   2   5   8  11\n",
      "r2   3   6   9  12\n",
      "r3   0   0   0   0\n",
      "r4   0   0   0   0 \n",
      "\n",
      "     c0   c1   c2    c4\n",
      "r0  1.0  4.0  7.0  10.0\n",
      "r1  2.0  5.0  8.0  11.0\n",
      "r2  3.0  6.0  9.0  12.0\n",
      "r3  0.0  0.0  0.0   0.0\n",
      "r4  0.0  0.0  0.0   0.0 \n",
      "\n"
     ]
    }
   ],
   "source": [
    "# 행에대한 인덱스를 새롭게 지정\n",
    "# 딕셔너리 정의\n",
    "dict_data = {'c0' : [1,2,3], 'c1' : [4,5,6], 'c2' : [7,8,9], 'c4' : [10,11,12]}\n",
    "\n",
    "# dataframe 정의, index = 으로 행의 인덱스\n",
    "df = pd.DataFrame(dict_data,index=['r0','r1','r2'])\n",
    "print(df,'\\n')\n",
    "\n",
    "# 인덱스를 재지정\n",
    "new_index = ['r0','r1','r2','r3','r4']\n",
    "ndf = df.reindex(new_index)\n",
    "print(ndf,'\\n')\n",
    "\n",
    "# reindex로 발생한 NaN값을 숫자 0으로 채우기.\n",
    "ndf = df.reindex(new_index,fill_value=0)\n",
    "print(ndf,'\\n')\n",
    "\n",
    "# fill_value의 값에 따라서 자료형이 달라진다. 0.0으로 바꾸면 실수형으로 나옴. 만약 fill_value가 없다면 실수가 디폴트\n",
    "ndf = df.reindex(new_index,fill_value=0.0)\n",
    "print(ndf,'\\n')\n"
   ]
  },
  {
   "cell_type": "code",
   "execution_count": 145,
   "metadata": {},
   "outputs": [
    {
     "name": "stdout",
     "output_type": "stream",
     "text": [
      "    c0  c1  c2  c4\n",
      "r0   1   4   7  10\n",
      "r1   2   5   8  11\n",
      "r2   3   6   9  12 \n",
      "\n",
      "  index  c0  c1  c2  c4\n",
      "0    r0   1   4   7  10\n",
      "1    r1   2   5   8  11\n",
      "2    r2   3   6   9  12 \n",
      "\n"
     ]
    }
   ],
   "source": [
    "# 인덱스 초기화\n",
    "# 딕셔너리 정의\n",
    "dict_data = {'c0' : [1,2,3], 'c1' : [4,5,6], 'c2' : [7,8,9], 'c4' : [10,11,12]}\n",
    "\n",
    "# dataframe 정의, index = 으로 행의 인덱스\n",
    "df = pd.DataFrame(dict_data,index=['r0','r1','r2'])\n",
    "print(df,'\\n')\n",
    "\n",
    "# 행 인덱스를 정수형으로 초기화\n",
    "ndf = df.reset_index()\n",
    "print(ndf,'\\n')"
   ]
  },
  {
   "cell_type": "code",
   "execution_count": 150,
   "metadata": {},
   "outputs": [
    {
     "name": "stdout",
     "output_type": "stream",
     "text": [
      "    c0  c1  c2  c4\n",
      "r0   1   4   7  10\n",
      "r1   2   5   8  11\n",
      "r2   3   6   9  12 \n",
      "\n",
      "    c0  c1  c2  c4\n",
      "r2   3   6   9  12\n",
      "r1   2   5   8  11\n",
      "r0   1   4   7  10\n"
     ]
    }
   ],
   "source": [
    "dict_data = {'c0' : [1,2,3], 'c1' : [4,5,6], 'c2' : [7,8,9], 'c4' : [10,11,12]}\n",
    "df = pd.DataFrame(dict_data,index=['r0','r1','r2'])\n",
    "print(df,'\\n')\n",
    "\n",
    "# 내림차순으로 인덱스 정렬\n",
    "ndf = df.sort_index(ascending=False)\n",
    "print(ndf)\n"
   ]
  },
  {
   "cell_type": "code",
   "execution_count": 151,
   "metadata": {},
   "outputs": [
    {
     "name": "stdout",
     "output_type": "stream",
     "text": [
      "    c0  c1  c2  c4\n",
      "r0   1   4   7  10\n",
      "r1   2   5   8  11\n",
      "r2   3   6   9  12 \n",
      "\n",
      "    c0  c1  c2  c4\n",
      "r2   3   6   9  12\n",
      "r1   2   5   8  11\n",
      "r0   1   4   7  10\n"
     ]
    }
   ],
   "source": [
    "dict_data = {'c0' : [1,2,3], 'c1' : [4,5,6], 'c2' : [7,8,9], 'c4' : [10,11,12]}\n",
    "df = pd.DataFrame(dict_data,index=['r0','r1','r2'])\n",
    "print(df,'\\n')\n",
    "\n",
    "# c1열을 기준으로 정렬\n",
    "ndf = df.sort_values(by='c1',ascending=False)\n",
    "print(ndf)"
   ]
  },
  {
   "cell_type": "code",
   "execution_count": 155,
   "metadata": {},
   "outputs": [
    {
     "name": "stdout",
     "output_type": "stream",
     "text": [
      "국어    100\n",
      "영어     80\n",
      "수학     90\n",
      "dtype: int64 \n",
      "\n",
      "국어    0.50\n",
      "영어    0.40\n",
      "수학    0.45\n",
      "dtype: float64 \n",
      " <class 'pandas.core.series.Series'>\n"
     ]
    }
   ],
   "source": [
    "# 딕셔너리 데이터로 판다스 시리즈 만들기\n",
    "student1 = pd.Series({'국어':100,'영어':80,'수학':90})\n",
    "print(student1,'\\n')\n",
    "\n",
    "# 학생의 과목별 점수를 200으로 나누기\n",
    "percentage = student1/200\n",
    "print(percentage,'\\n',type(percentage))"
   ]
  },
  {
   "cell_type": "code",
   "execution_count": 160,
   "metadata": {},
   "outputs": [
    {
     "name": "stdout",
     "output_type": "stream",
     "text": [
      "국어    100\n",
      "영어     80\n",
      "수학     90\n",
      "dtype: int64 \n",
      "\n",
      "수학    80\n",
      "국어    75\n",
      "영어    85\n",
      "dtype: int64 \n",
      "\n",
      "<class 'pandas.core.series.Series'>\n",
      "\n",
      "\n",
      "              국어        수학           영어\n",
      "덧셈    175.000000   170.000   165.000000\n",
      "뺄셈     25.000000    10.000    -5.000000\n",
      "곱셉   7500.000000  7200.000  6800.000000\n",
      "나눗셈     1.333333     1.125     0.941176\n"
     ]
    }
   ],
   "source": [
    "# 시리즈 연산\n",
    "student1 = pd.Series({'국어':100,'영어':80,'수학':90})\n",
    "student2 = pd.Series({'수학':80,'국어':75,'영어':85})\n",
    "print(student1,'\\n')\n",
    "print(student2,'\\n')\n",
    "\n",
    "# 두 학생의 과목별 점수로 사칙연산 수행, 인덱스의 순서가 달라도 같은 인덱스끼리 연산 실행\n",
    "addiction = student1 + student2\n",
    "subtraction = student1 - student2\n",
    "multiplication = student1 * student2\n",
    "division = student1 / student2\n",
    "print(type(division))\n",
    "print('\\n')\n",
    "\n",
    "# 결과를 데이터프레임으로 합치기\n",
    "result = pd.DataFrame([addiction,subtraction,multiplication,division], index = ['덧셈','뺄셈','곱셉','나눗셈'])\n",
    "print(result)"
   ]
  },
  {
   "cell_type": "code",
   "execution_count": 162,
   "metadata": {},
   "outputs": [
    {
     "name": "stdout",
     "output_type": "stream",
     "text": [
      "국어     NaN\n",
      "영어    80.0\n",
      "수학    90.0\n",
      "dtype: float64 \n",
      "\n",
      "수학    80\n",
      "국어    90\n",
      "dtype: int64 \n",
      "\n",
      "<class 'pandas.core.series.Series'>\n",
      "\n",
      "\n",
      "     국어        수학  영어\n",
      "덧셈  NaN   170.000 NaN\n",
      "뺄셈  NaN    10.000 NaN\n",
      "곱셉  NaN  7200.000 NaN\n",
      "나눗셈 NaN     1.125 NaN\n"
     ]
    }
   ],
   "source": [
    "# 시리즈 연산, NaN값이 있을경우\n",
    "import numpy as np\n",
    "\n",
    "student1 = pd.Series({'국어':np.nan,'영어':80,'수학':90})\n",
    "student2 = pd.Series({'수학':80,'국어':90})\n",
    "print(student1,'\\n')\n",
    "print(student2,'\\n')\n",
    "\n",
    "# 두 학생의 과목별 점수로 사칙연산 수행, 인덱스의 순서가 달라도 같은 인덱스끼리 연산 실행\n",
    "addiction = student1 + student2\n",
    "subtraction = student1 - student2\n",
    "multiplication = student1 * student2\n",
    "division = student1 / student2\n",
    "print(type(division))\n",
    "print('\\n')\n",
    "\n",
    "# 결과를 데이터프레임으로 합치기, NaN값이 있을경우 연산값도 NaN\n",
    "result = pd.DataFrame([addiction,subtraction,multiplication,division], index = ['덧셈','뺄셈','곱셉','나눗셈'])\n",
    "print(result)"
   ]
  },
  {
   "cell_type": "code",
   "execution_count": 164,
   "metadata": {},
   "outputs": [
    {
     "name": "stdout",
     "output_type": "stream",
     "text": [
      "국어     NaN\n",
      "영어    80.0\n",
      "수학    90.0\n",
      "dtype: float64 \n",
      "\n",
      "수학    80\n",
      "국어    90\n",
      "dtype: int64 \n",
      "\n",
      "       국어        수학    영어\n",
      "덧셈   90.0   170.000  80.0\n",
      "뺄셈  -90.0    10.000  80.0\n",
      "곱셉    0.0  7200.000   0.0\n",
      "나눗셈   0.0     1.125   inf\n"
     ]
    }
   ],
   "source": [
    "# 시리즈 연산, NaN값을 0으로 치환했을경우\n",
    "import numpy as np\n",
    "\n",
    "student1 = pd.Series({'국어':np.nan,'영어':80,'수학':90})\n",
    "student2 = pd.Series({'수학':80,'국어':90})\n",
    "print(student1,'\\n')\n",
    "print(student2,'\\n')\n",
    "\n",
    "# 두 학생의 과목별 점수로 사칙연산 수행, 인덱스의 순서가 달라도 같은 인덱스끼리 연산 실행\n",
    "sr_add = student1.add(student2,fill_value = 0)\n",
    "sr_sub = student1.sub(student2,fill_value = 0)\n",
    "sr_mul = student1.mul(student2,fill_value = 0)\n",
    "sr_div = student1.div(student2,fill_value = 0)\n",
    "\n",
    "# 결과를 데이터프레임으로 합치기, NaN값이 있을경우 연산값도 NaN\n",
    "result = pd.DataFrame([sr_add,sr_sub,sr_mul,sr_div], index = ['덧셈','뺄셈','곱셉','나눗셈'])\n",
    "print(result)"
   ]
  },
  {
   "cell_type": "code",
   "execution_count": 165,
   "metadata": {},
   "outputs": [
    {
     "name": "stdout",
     "output_type": "stream",
     "text": [
      "국어     NaN\n",
      "영어    80.0\n",
      "수학    90.0\n",
      "dtype: float64 \n",
      "\n",
      "수학    80\n",
      "국어    90\n",
      "dtype: int64 \n",
      "\n",
      "     국어        수학  영어\n",
      "덧셈  NaN   170.000 NaN\n",
      "뺄셈  NaN    10.000 NaN\n",
      "곱셉  NaN  7200.000 NaN\n",
      "나눗셈 NaN     1.125 NaN\n"
     ]
    }
   ],
   "source": [
    "# 시리즈 연산, NaN값을 0으로 치환했을경우\n",
    "import numpy as np\n",
    "\n",
    "student1 = pd.Series({'국어':np.nan,'영어':80,'수학':90})\n",
    "student2 = pd.Series({'수학':80,'국어':90})\n",
    "print(student1,'\\n')\n",
    "print(student2,'\\n')\n",
    "\n",
    "# 두 학생의 과목별 점수로 사칙연산 수행, 인덱스의 순서가 달라도 같은 인덱스끼리 연산 실행\n",
    "sr_add = student1.add(student2)\n",
    "sr_sub = student1.sub(student2)\n",
    "sr_mul = student1.mul(student2)\n",
    "sr_div = student1.div(student2)\n",
    "\n",
    "# 결과를 데이터프레임으로 합치기, NaN값이 있을경우 연산값도 NaN\n",
    "result = pd.DataFrame([sr_add,sr_sub,sr_mul,sr_div], index = ['덧셈','뺄셈','곱셉','나눗셈'])\n",
    "print(result)"
   ]
  },
  {
   "cell_type": "code",
   "execution_count": 173,
   "metadata": {},
   "outputs": [
    {
     "name": "stdout",
     "output_type": "stream",
     "text": [
      "    age     fare\n",
      "0  22.0   7.2500\n",
      "1  38.0  71.2833\n",
      "2  26.0   7.9250\n",
      "3  35.0  53.1000\n",
      "4  35.0   8.0500 \n",
      " <class 'pandas.core.frame.DataFrame'>\n",
      "    age     fare\n",
      "0  32.0  17.2500\n",
      "1  48.0  81.2833\n",
      "2  36.0  17.9250\n",
      "3  45.0  63.1000\n",
      "4  45.0  18.0500 \n",
      " <class 'pandas.core.frame.DataFrame'>\n"
     ]
    }
   ],
   "source": [
    "import seaborn as sns\n",
    "\n",
    "# 내장된 데이터셋 불러오기\n",
    "titanic = sns.load_dataset('titanic')\n",
    "# loc를 이용해서 [:,]모든 행을 가져오고, [['age','fare']]열을 가져온다\n",
    "df = titanic.loc[:,['age','fare']]\n",
    "print(df.head(),'\\n',type(df))\n",
    "\n",
    "# 데이터프레임에 숫자 10 더하기\n",
    "addiction = df+10\n",
    "print(addiction.head(),'\\n',type(addiction))"
   ]
  },
  {
   "cell_type": "code",
   "execution_count": 174,
   "metadata": {},
   "outputs": [
    {
     "name": "stdout",
     "output_type": "stream",
     "text": [
      "      age  fare\n",
      "886  10.0  10.0\n",
      "887  10.0  10.0\n",
      "888   NaN  10.0\n",
      "889  10.0  10.0\n",
      "890  10.0  10.0\n"
     ]
    }
   ],
   "source": [
    "# 데이터프레임끼리 연산\n",
    "subtraction = addiction - df\n",
    "print(subtraction.tail())"
   ]
  },
  {
   "cell_type": "code",
   "execution_count": 194,
   "metadata": {},
   "outputs": [
    {
     "name": "stdout",
     "output_type": "stream",
     "text": [
      "   c0  c1  c2  c3\n",
      "0   0   1   4   7\n",
      "1   1   2   5   8\n",
      "2   2   3   6   9\n",
      "\n",
      "\n",
      "    0   1   2   3\n",
      "0  c0  c1  c2  c3\n",
      "1   0   1   4   7\n",
      "2   1   2   5   8\n",
      "3   2   3   6   9\n",
      "\n",
      "\n",
      "   c0  c1  c2  c3\n",
      "0   0   1   4   7\n",
      "1   1   2   5   8\n",
      "2   2   3   6   9\n",
      "\n",
      "\n",
      "    c1  c2  c3\n",
      "c0            \n",
      "0    1   4   7\n",
      "1    2   5   8\n",
      "2    3   6   9\n",
      "\n",
      "\n"
     ]
    }
   ],
   "source": [
    "# 외부파일 읽어오기\n",
    "file_path = 'Pandas_Data/read_csv_sample.csv'\n",
    "df1 = pd.read_csv(file_path)\n",
    "print(df1.head())\n",
    "print('\\n')\n",
    "\n",
    "# header = None이면 첫줄까지 데이터로 처리해서 읽어온다.\n",
    "df2 = pd.read_csv(file_path,header=None)\n",
    "print(df2.head())\n",
    "print('\\n')\n",
    "\n",
    "\n",
    "# row index에 대한 정보를 가지고오지 않는다.\n",
    "df3 = pd.read_csv(file_path,index_col=None)\n",
    "print(df3.head())\n",
    "print('\\n')\n",
    "\n",
    "# index_col = 'c0'로 설정하면 row index에 대한 정보를 c0의 정보로 대체한다.\n",
    "df4 = pd.read_csv(file_path,index_col='c0')\n",
    "print(df4.head())\n",
    "print('\\n')"
   ]
  },
  {
   "cell_type": "code",
   "execution_count": 200,
   "metadata": {},
   "outputs": [
    {
     "name": "stdout",
     "output_type": "stream",
     "text": [
      "  전력량 (억㎾h) 발전 전력별  1990  1991  1992  1993  1994  1995  1996  1997  ...  2007  \\\n",
      "0        남한     합계  1077  1186  1310  1444  1650  1847  2055  2244  ...  4031   \n",
      "1       NaN     수력    64    51    49    60    41    55    52    54  ...    50   \n",
      "2       NaN     화력   484   573   696   803  1022  1122  1264  1420  ...  2551   \n",
      "3       NaN    원자력   529   563   565   581   587   670   739   771  ...  1429   \n",
      "4       NaN    신재생     -     -     -     -     -     -     -     -  ...     -   \n",
      "5        북한     합계   277   263   247   221   231   230   213   193  ...   236   \n",
      "6       NaN     수력   156   150   142   133   138   142   125   107  ...   133   \n",
      "7       NaN     화력   121   113   105    88    93    88    88    86  ...   103   \n",
      "8       NaN    원자력     -     -     -     -     -     -     -     -  ...     -   \n",
      "\n",
      "   2008  2009  2010  2011  2012  2013  2014  2015  2016  \n",
      "0  4224  4336  4747  4969  5096  5171  5220  5281  5404  \n",
      "1    56    56    65    78    77    84    78    58    66  \n",
      "2  2658  2802  3196  3343  3430  3581  3427  3402  3523  \n",
      "3  1510  1478  1486  1547  1503  1388  1564  1648  1620  \n",
      "4     -     -     -     -    86   118   151   173   195  \n",
      "5   255   235   237   211   215   221   216   190   239  \n",
      "6   141   125   134   132   135   139   130   100   128  \n",
      "7   114   110   103    79    80    82    86    90   111  \n",
      "8     -     -     -     -     -     -     -     -     -  \n",
      "\n",
      "[9 rows x 29 columns] \n",
      "           0       1     2     3     4     5     6     7     8     9   ...  \\\n",
      "0  전력량 (억㎾h)  발전 전력별  1990  1991  1992  1993  1994  1995  1996  1997  ...   \n",
      "1         남한      합계  1077  1186  1310  1444  1650  1847  2055  2244  ...   \n",
      "2        NaN      수력    64    51    49    60    41    55    52    54  ...   \n",
      "3        NaN      화력   484   573   696   803  1022  1122  1264  1420  ...   \n",
      "4        NaN     원자력   529   563   565   581   587   670   739   771  ...   \n",
      "5        NaN     신재생     -     -     -     -     -     -     -     -  ...   \n",
      "6         북한      합계   277   263   247   221   231   230   213   193  ...   \n",
      "7        NaN      수력   156   150   142   133   138   142   125   107  ...   \n",
      "8        NaN      화력   121   113   105    88    93    88    88    86  ...   \n",
      "9        NaN     원자력     -     -     -     -     -     -     -     -  ...   \n",
      "\n",
      "     19    20    21    22    23    24    25    26    27    28  \n",
      "0  2007  2008  2009  2010  2011  2012  2013  2014  2015  2016  \n",
      "1  4031  4224  4336  4747  4969  5096  5171  5220  5281  5404  \n",
      "2    50    56    56    65    78    77    84    78    58    66  \n",
      "3  2551  2658  2802  3196  3343  3430  3581  3427  3402  3523  \n",
      "4  1429  1510  1478  1486  1547  1503  1388  1564  1648  1620  \n",
      "5     -     -     -     -     -    86   118   151   173   195  \n",
      "6   236   255   235   237   211   215   221   216   190   239  \n",
      "7   133   141   125   134   132   135   139   130   100   128  \n",
      "8   103   114   110   103    79    80    82    86    90   111  \n",
      "9     -     -     -     -     -     -     -     -     -     -  \n",
      "\n",
      "[10 rows x 29 columns]\n"
     ]
    }
   ],
   "source": [
    "import pandas as pd\n",
    "\n",
    "import xlrd\n",
    "\n",
    "# read_excel() 함수로 데이터프레임 변환\n",
    "df1 = pd.read_excel('data/남북한발전전력량.xlsx')\n",
    "df2 = pd.read_excel('data/남북한발전전력량.xlsx',header= None)\n",
    "\n",
    "print(df1,'\\n',df2)\n"
   ]
  },
  {
   "cell_type": "code",
   "execution_count": 7,
   "metadata": {},
   "outputs": [],
   "source": [
    "df3 = pd.read_excel('C:/sh/study/Study Everyday/data files/stocks.xlsx', sheet_name=['stock2016','stock2017','stock2018'],engine=\"openpyxl\")\n"
   ]
  },
  {
   "cell_type": "code",
   "execution_count": 17,
   "metadata": {},
   "outputs": [
    {
     "name": "stdout",
     "output_type": "stream",
     "text": [
      "2\n",
      "\n",
      "\n",
      "tables[0]\n",
      "   Unnamed: 0  c0  c1  c2  c3\n",
      "0           0   0   1   4   7\n",
      "1           1   1   2   5   8\n",
      "2           2   2   3   6   9\n",
      "\n",
      "\n",
      "tables[1]\n",
      "         name  year        developer  opensource\n",
      "0       NumPy  2006  Travis Oliphant        True\n",
      "1  matplotlib  2003   John D. Hunter        True\n",
      "2      pandas  2008    Wes Mckinneye        True\n",
      "\n",
      "\n",
      "            year        developer  opensource\n",
      "name                                         \n",
      "NumPy       2006  Travis Oliphant        True\n",
      "matplotlib  2003   John D. Hunter        True\n",
      "pandas      2008    Wes Mckinneye        True\n"
     ]
    }
   ],
   "source": [
    "# 웹에서 파일 가져오기\n",
    "import pandas as pd\n",
    "url = 'C:/sh/study/Study Everyday/data files/sample.html'\n",
    "tables = pd.read_html(url)\n",
    "\n",
    "# 표의 개수 확인\n",
    "print(len(tables))\n",
    "print('\\n')\n",
    "\n",
    "# 리스트의 원소들 출력\n",
    "for i in range(len(tables)):\n",
    "    print(\"tables[%s]\"%i)\n",
    "    print(tables[i])\n",
    "    print('\\n')\n",
    "\n",
    "df = tables[1]\n",
    "\n",
    "df.set_index(['name'],inplace=True)\n",
    "print(df)"
   ]
  },
  {
   "cell_type": "code",
   "execution_count": 33,
   "metadata": {},
   "outputs": [
    {
     "name": "stdout",
     "output_type": "stream",
     "text": [
      "    mpg  culinders  displacement horsepower  weight  acceleration  model year  \\\n",
      "0  18.0          8         307.0        130    3504          12.0          70   \n",
      "1  15.0          8         350.0        165    3693          11.5          70   \n",
      "2  18.0          8         318.0        150    3436          11.0          70   \n",
      "3  16.0          8         304.0        150    3433          12.0          70   \n",
      "4  17.0          8         302.0        140    3449          10.5          70   \n",
      "\n",
      "   origin                       name  \n",
      "0       1  chevrolet chevelle malibu  \n",
      "1       1          buick skylark 320  \n",
      "2       1         plymouth satellite  \n",
      "3       1              amc rebel sst  \n",
      "4       1                ford torino  \n",
      "\n",
      "\n",
      "      mpg  culinders  displacement horsepower  weight  acceleration  \\\n",
      "393  27.0          4         140.0         86    2790          15.6   \n",
      "394  44.0          4          97.0         52    2130          24.6   \n",
      "395  32.0          4         135.0         84    2295          11.6   \n",
      "396  28.0          4         120.0         79    2625          18.6   \n",
      "397  31.0          4         119.0         82    2720          19.4   \n",
      "\n",
      "     model year  origin             name  \n",
      "393          82       1  ford mustang gl  \n",
      "394          82       2        vw pickup  \n",
      "395          82       1    dodge rampage  \n",
      "396          82       1      ford ranger  \n",
      "397          82       1       chevy s-10  \n"
     ]
    }
   ],
   "source": [
    "# 데이터 살펴보기\n",
    "df = pd.read_csv('C:/sh/study/Study Everyday/data files/auto-mpg.csv',header=None)\n",
    "df.columns = ['mpg','culinders','displacement','horsepower','weight','acceleration','model year','origin','name']\n",
    "print(df.head())\n",
    "print('\\n')\n",
    "print(df.tail())"
   ]
  },
  {
   "cell_type": "code",
   "execution_count": 23,
   "metadata": {},
   "outputs": [
    {
     "name": "stdout",
     "output_type": "stream",
     "text": [
      "(398, 9)\n"
     ]
    }
   ],
   "source": [
    "# 데이터 row, column 정보\n",
    "print(df.shape)\n"
   ]
  },
  {
   "cell_type": "code",
   "execution_count": 24,
   "metadata": {},
   "outputs": [
    {
     "name": "stdout",
     "output_type": "stream",
     "text": [
      "<class 'pandas.core.frame.DataFrame'>\n",
      "RangeIndex: 398 entries, 0 to 397\n",
      "Data columns (total 9 columns):\n",
      " #   Column        Non-Null Count  Dtype  \n",
      "---  ------        --------------  -----  \n",
      " 0   mpg           398 non-null    float64\n",
      " 1   culinders     398 non-null    int64  \n",
      " 2   displacement  398 non-null    float64\n",
      " 3   horsepower    398 non-null    object \n",
      " 4   weight        398 non-null    int64  \n",
      " 5   acceleration  398 non-null    float64\n",
      " 6   model year    398 non-null    int64  \n",
      " 7   origin        398 non-null    int64  \n",
      " 8   name          398 non-null    object \n",
      "dtypes: float64(3), int64(4), object(2)\n",
      "memory usage: 28.1+ KB\n",
      "None\n"
     ]
    }
   ],
   "source": [
    "# 데이터의 행에 대한 정보, 개수 각 열의 자료형확인. r의 str과 동일\n",
    "print(df.info())"
   ]
  },
  {
   "cell_type": "code",
   "execution_count": 28,
   "metadata": {},
   "outputs": [
    {
     "name": "stdout",
     "output_type": "stream",
     "text": [
      "mpg             float64\n",
      "culinders         int64\n",
      "displacement    float64\n",
      "horsepower       object\n",
      "weight            int64\n",
      "acceleration    float64\n",
      "model year        int64\n",
      "origin            int64\n",
      "name             object\n",
      "dtype: object\n",
      "float64\n"
     ]
    }
   ],
   "source": [
    "# 각 열의 자료형 확인. 특정 열만 선택하는 것도 가능\n",
    "print(df.dtypes)\n",
    "print(df.mpg.dtypes)"
   ]
  },
  {
   "cell_type": "code",
   "execution_count": 30,
   "metadata": {},
   "outputs": [
    {
     "name": "stdout",
     "output_type": "stream",
     "text": [
      "              mpg   culinders  displacement       weight  acceleration  \\\n",
      "count  398.000000  398.000000    398.000000   398.000000    398.000000   \n",
      "mean    23.514573    5.454774    193.425879  2970.424623     15.568090   \n",
      "std      7.815984    1.701004    104.269838   846.841774      2.757689   \n",
      "min      9.000000    3.000000     68.000000  1613.000000      8.000000   \n",
      "25%     17.500000    4.000000    104.250000  2223.750000     13.825000   \n",
      "50%     23.000000    4.000000    148.500000  2803.500000     15.500000   \n",
      "75%     29.000000    8.000000    262.000000  3608.000000     17.175000   \n",
      "max     46.600000    8.000000    455.000000  5140.000000     24.800000   \n",
      "\n",
      "       model year      origin  \n",
      "count  398.000000  398.000000  \n",
      "mean    76.010050    1.572864  \n",
      "std      3.697627    0.802055  \n",
      "min     70.000000    1.000000  \n",
      "25%     73.000000    1.000000  \n",
      "50%     76.000000    1.000000  \n",
      "75%     79.000000    2.000000  \n",
      "max     82.000000    3.000000  \n",
      "               mpg   culinders  displacement horsepower       weight  \\\n",
      "count   398.000000  398.000000    398.000000        398   398.000000   \n",
      "unique         NaN         NaN           NaN         95          NaN   \n",
      "top            NaN         NaN           NaN        150          NaN   \n",
      "freq           NaN         NaN           NaN         22          NaN   \n",
      "mean     23.514573    5.454774    193.425879        NaN  2970.424623   \n",
      "std       7.815984    1.701004    104.269838        NaN   846.841774   \n",
      "min       9.000000    3.000000     68.000000        NaN  1613.000000   \n",
      "25%      17.500000    4.000000    104.250000        NaN  2223.750000   \n",
      "50%      23.000000    4.000000    148.500000        NaN  2803.500000   \n",
      "75%      29.000000    8.000000    262.000000        NaN  3608.000000   \n",
      "max      46.600000    8.000000    455.000000        NaN  5140.000000   \n",
      "\n",
      "        acceleration  model year      origin        name  \n",
      "count     398.000000  398.000000  398.000000         398  \n",
      "unique           NaN         NaN         NaN         305  \n",
      "top              NaN         NaN         NaN  ford pinto  \n",
      "freq             NaN         NaN         NaN           6  \n",
      "mean       15.568090   76.010050    1.572864         NaN  \n",
      "std         2.757689    3.697627    0.802055         NaN  \n",
      "min         8.000000   70.000000    1.000000         NaN  \n",
      "25%        13.825000   73.000000    1.000000         NaN  \n",
      "50%        15.500000   76.000000    1.000000         NaN  \n",
      "75%        17.175000   79.000000    2.000000         NaN  \n",
      "max        24.800000   82.000000    3.000000         NaN  \n"
     ]
    }
   ],
   "source": [
    "# 데이터프레임의 기술통계 정보 요약,\n",
    "# include = 'all'로 설정할 경우 NaN값이 모두 출력된다. NaN값은 유효한 기술통계 정보가 없을 경우 출력된다. \n",
    "# 그냥 출력할 경우 NaN값이 있는 row는 출력되지 않는다.\n",
    "print(df.describe())\n",
    "print(df.describe(include='all'))"
   ]
  },
  {
   "cell_type": "code",
   "execution_count": 31,
   "metadata": {},
   "outputs": [
    {
     "name": "stdout",
     "output_type": "stream",
     "text": [
      "mpg             398\n",
      "culinders       398\n",
      "displacement    398\n",
      "horsepower      398\n",
      "weight          398\n",
      "acceleration    398\n",
      "model year      398\n",
      "origin          398\n",
      "name            398\n",
      "dtype: int64\n",
      "<class 'pandas.core.series.Series'>\n"
     ]
    }
   ],
   "source": [
    "# 각 열의 데이터 개수 출력\n",
    "print(df.count())\n",
    "print(type(df.count()))"
   ]
  },
  {
   "cell_type": "code",
   "execution_count": 38,
   "metadata": {},
   "outputs": [
    {
     "data": {
      "text/plain": [
       "pandas.core.series.Series"
      ]
     },
     "execution_count": 38,
     "metadata": {},
     "output_type": "execute_result"
    }
   ],
   "source": [
    "\n"
   ]
  },
  {
   "cell_type": "code",
   "execution_count": null,
   "metadata": {},
   "outputs": [],
   "source": []
  }
 ],
 "metadata": {
  "interpreter": {
   "hash": "83d3e1d533d06a5ed13bdd408cfdbe5752516a627e355ce33664633b6ff4534e"
  },
  "kernelspec": {
   "display_name": "Python 3.9.7 64-bit ('base': conda)",
   "language": "python",
   "name": "python3"
  },
  "language_info": {
   "codemirror_mode": {
    "name": "ipython",
    "version": 3
   },
   "file_extension": ".py",
   "mimetype": "text/x-python",
   "name": "python",
   "nbconvert_exporter": "python",
   "pygments_lexer": "ipython3",
   "version": "3.9.7"
  },
  "orig_nbformat": 4
 },
 "nbformat": 4,
 "nbformat_minor": 2
}
