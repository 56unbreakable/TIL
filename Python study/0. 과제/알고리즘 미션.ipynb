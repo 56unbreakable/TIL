{
 "cells": [
  {
   "cell_type": "code",
   "execution_count": 4,
   "metadata": {},
   "outputs": [
    {
     "name": "stdout",
     "output_type": "stream",
     "text": [
      "짝수입니다.\n"
     ]
    }
   ],
   "source": [
    "# 문 : 특정값을 입력받아 짝수인지 홀수인지 구분하세요\t\n",
    "x = input(\"숫자를 입력하세요 : \")\n",
    "x = int(x)\n",
    "if x % 2 == 0:\n",
    "    print(\"짝수입니다.\")\n",
    "else:\n",
    "    print(\"홀수입니다.\")"
   ]
  },
  {
   "cell_type": "code",
   "execution_count": 5,
   "metadata": {},
   "outputs": [
    {
     "name": "stdout",
     "output_type": "stream",
     "text": [
      "1\n"
     ]
    }
   ],
   "source": [
    "# \"문 : 세수를 입력받아 작은수를 출력하시오.\n",
    "x = int(input(\"첫 번째 숫자를 입력하세요 : \"))\n",
    "y = int(input(\"두 번째 숫자를 입력하세요 : \"))\n",
    "z = int(input(\"세 번째 숫자를 입력하세요 : \"))\n",
    "\n",
    "k = (x,y,z)\n",
    "print(min(k))"
   ]
  },
  {
   "cell_type": "code",
   "execution_count": 9,
   "metadata": {},
   "outputs": [
    {
     "name": "stdout",
     "output_type": "stream",
     "text": [
      "81\n"
     ]
    }
   ],
   "source": [
    "'''\n",
    "두수를 키보드로부터 입력 받아 거듭제곱을 구하시오. \n",
    "\n",
    "거듭제곱 : 같은수나 식을 여러 번 곱하는 것 \n",
    "\n",
    "Ex) 입력값 : 4,3 \n",
    "     출력값 : 64\n",
    " \n",
    "조건 : for문사용(** 연산자 사용 안함)\"\t\n",
    "'''\n",
    "x = int(input(\"첫 번째 숫자를 입력하세요 : \"))\n",
    "y = int(input(\"두 번째 숫자를 입력하세요 : \"))\n",
    "result = 1\n",
    "for i in range(y):\n",
    "    result = result * x\n",
    "print(result)"
   ]
  },
  {
   "cell_type": "code",
   "execution_count": 21,
   "metadata": {},
   "outputs": [
    {
     "name": "stdout",
     "output_type": "stream",
     "text": [
      "-0.6881721793102002\n"
     ]
    }
   ],
   "source": [
    "'''\n",
    "\"-(1/2) + (2/3) - (3/4) + (4/5) - (5/6) …. -(99/100)의 \n",
    "합계를 구하여 출력하시오.\n",
    "\n",
    "정답 : -0.688172\"\t\n",
    "'''\n",
    "k = 0.0\n",
    "j = 0.0\n",
    "for i in range(1,100,2):\n",
    "    k = k - (i/(i+1))\n",
    "for i in range(2,100,2):\n",
    "    j = j + (i/(i+1))\n",
    "\n",
    "print(k+j)\n"
   ]
  },
  {
   "cell_type": "code",
   "execution_count": 5,
   "metadata": {},
   "outputs": [
    {
     "name": "stdout",
     "output_type": "stream",
     "text": [
      "1350\n"
     ]
    }
   ],
   "source": [
    "'''\n",
    "\"\n",
    "1+2+4+7+11+16+22…의 순서로 나열되는 \n",
    "수열의 20번째 항까지의 합계를 구하여 \n",
    "출력하시오.\n",
    "\n",
    "정답 : 1350\"\t\n",
    "'''\n",
    "num = 1\n",
    "sum = 0\n",
    "for i in range(1,21):\n",
    "    sum += num\n",
    "    num += i\n",
    "print(sum)"
   ]
  },
  {
   "cell_type": "code",
   "execution_count": 9,
   "metadata": {},
   "outputs": [
    {
     "name": "stdout",
     "output_type": "stream",
     "text": [
      "220\n",
      "55\n"
     ]
    }
   ],
   "source": [
    "'''\n",
    "1, (1+2), (1+2+3), …(1+2+3+4+…10) 합을 \n",
    "구하여 출력하시오.\n",
    "'''\n",
    "sum = 0\n",
    "num = 0\n",
    "for i in range(1,11):\n",
    "    num += i\n",
    "    sum += num\n",
    "print(sum)"
   ]
  },
  {
   "cell_type": "code",
   "execution_count": 18,
   "metadata": {},
   "outputs": [
    {
     "name": "stdout",
     "output_type": "stream",
     "text": [
      "100\n"
     ]
    }
   ],
   "source": [
    "'''\n",
    "\"-1 + 2 - 4 +7 -11 + 16 – 22의 순서로 나열되는 \n",
    "수열의 20번째 항까지의 합계를 출력하시오.\n",
    "\n",
    "정답 :  100\n",
    "\"\t\n",
    "'''\n",
    "sum = 0\n",
    "an = 1\n",
    "for i in range(0,20):\n",
    "    an = (-1) ** (i+1) * (abs(an) + i)\n",
    "    sum += an\n",
    "print(sum)"
   ]
  },
  {
   "cell_type": "code",
   "execution_count": 19,
   "metadata": {},
   "outputs": [
    {
     "name": "stdout",
     "output_type": "stream",
     "text": [
      "4037913\n"
     ]
    }
   ],
   "source": [
    "'''\n",
    "\"\n",
    "1! + 2! + 3! + 4! + 5! … + 10! 의 순서로 \n",
    "나열되는 수열의 10번째 항까지의 합계를 \n",
    "출력하시오.\n",
    "\n",
    "정답 : 4,037,913\n",
    "\"\t\n",
    "'''\n",
    "import math\n",
    "sum = 0\n",
    "for i in range(1,11):\n",
    "    a = math.factorial(i)\n",
    "    sum += a\n",
    "print(sum)\n"
   ]
  },
  {
   "cell_type": "code",
   "execution_count": 7,
   "metadata": {},
   "outputs": [
    {
     "name": "stdout",
     "output_type": "stream",
     "text": [
      "홀수 : 51    짝수 : 49\n"
     ]
    }
   ],
   "source": [
    "'''\n",
    "\".\n",
    "100개의 난수를 발생하여 짝수와 홀수 개수를 출력하시오\"\t\n",
    "'''\n",
    "import random\n",
    "rand_num = []\n",
    "for i in range(100):\n",
    "    rand_num.append(random.randint(1,100))\n",
    "odd = 0\n",
    "even = 0\n",
    "\n",
    "for i in range(100):\n",
    "    if rand_num[i] % 2 == 0:\n",
    "        even += 1\n",
    "    else : \n",
    "        odd += 1\n",
    "\n",
    "print('홀수 : %d    짝수 : %d'%(odd,even))\n"
   ]
  },
  {
   "cell_type": "code",
   "execution_count": 14,
   "metadata": {},
   "outputs": [
    {
     "name": "stdout",
     "output_type": "stream",
     "text": [
      "120\n"
     ]
    }
   ],
   "source": [
    "'''\n",
    "\"N값을 입력 받아 계승을 구하시오.\n",
    "\n",
    "예) 7! = 5040  -> 7 * 6 * 5 * 4 * 3 * 2 *1\n",
    "     5! = 120\n",
    "\"\t\n",
    "'''\n",
    "\n",
    "a = int(input('정수값을 입력'))\n",
    "fact = 1\n",
    "for i in range(1,a+1):\n",
    "    fact *= i\n",
    "print(fact)\n",
    "\n",
    "# a = int(input())\n",
    "# print(factorial(a))"
   ]
  },
  {
   "cell_type": "code",
   "execution_count": 2,
   "metadata": {},
   "outputs": [
    {
     "name": "stdout",
     "output_type": "stream",
     "text": [
      "17710\n"
     ]
    }
   ],
   "source": [
    "'''\n",
    "\"\n",
    "피보나치 수열 ( 1+1+2+3+5+8+13…)의 순서로 나열되는 \n",
    "수열의 20번째 항까지의 합계를 출력하시오.\n",
    "\n",
    "정답 : 17710\"\t\n",
    "'''\n",
    "a = [1,1]\n",
    "for i in range(18):\n",
    "    a.append(0)\n",
    "    a[i+2] = a[i+1] + a[i]\n",
    "print(sum(a))\n",
    "\n"
   ]
  },
  {
   "cell_type": "code",
   "execution_count": 3,
   "metadata": {},
   "outputs": [
    {
     "name": "stdout",
     "output_type": "stream",
     "text": [
      "79079\n"
     ]
    }
   ],
   "source": [
    "'''\n",
    "(77*1)+(76*2)+(75*3)+…(2*76)+(1*77)의 합계\t\n",
    "'''\n",
    "sum = 0\n",
    "for i in range(1,78):\n",
    "    a = (78 - i) * i \n",
    "    sum += a\n",
    "\n",
    "print(sum)"
   ]
  },
  {
   "cell_type": "code",
   "execution_count": 6,
   "metadata": {},
   "outputs": [
    {
     "name": "stdout",
     "output_type": "stream",
     "text": [
      "93\n"
     ]
    }
   ],
   "source": [
    "'''\n",
    "\"난수로 10개의 수를 입력받아 가장 \n",
    "큰수를 출력하시오\"\t\n",
    "'''\n",
    "import random\n",
    "a= []\n",
    "for i in range(10):\n",
    "    a.append(random.randint(1,100))\n",
    "print(max(a))"
   ]
  },
  {
   "cell_type": "code",
   "execution_count": 11,
   "metadata": {},
   "outputs": [
    {
     "name": "stdout",
     "output_type": "stream",
     "text": [
      "1등 : 99점\n",
      "2등 : 88점\n",
      "3등 : 63점\n",
      "4등 : 46점\n",
      "5등 : 40점\n",
      "6등 : 34점\n",
      "7등 : 17점\n",
      "8등 : 11점\n",
      "9등 : 8점\n",
      "10등 : 7점\n"
     ]
    }
   ],
   "source": [
    "'''\n",
    "\"임의의 성적 10개를 입력받아 \n",
    "각 성적에 대한 순위를 출력하시오.\n",
    "\n",
    "score = [55,67,33,99,66] 이런식으로 임의의 성적 혹은\n",
    "난수로 0~100사이로 발생시켜서 순위\n",
    "\"\t\n",
    "'''\n",
    "a = []\n",
    "for i in range(10):\n",
    "    a.append(random.randint(1,100))\n",
    "\n",
    "a = sorted(a,reverse=True)\n",
    "    \n",
    "for i in range(10):\n",
    "    print('{}등 : {}점'.format(i+1,a[i]))\n"
   ]
  },
  {
   "cell_type": "code",
   "execution_count": 16,
   "metadata": {},
   "outputs": [
    {
     "name": "stdout",
     "output_type": "stream",
     "text": [
      "홀수 22개, 짝수 28개\n"
     ]
    }
   ],
   "source": [
    "'''\n",
    "\"50개의 정수를 난수로 입력 받아 \n",
    "짝수 개수, 홀수 개수를 출력하시오.\n",
    "\"\t\n",
    "'''\n",
    "import random\n",
    "a =[]\n",
    "for i in range(50):\n",
    "    a.append(random.randint(1,1000))\n",
    "\n",
    "even = 0\n",
    "odd = 0\n",
    "\n",
    "for i in range(50):\n",
    "    if a[i] % 2 == 0:\n",
    "        even += 1\n",
    "    else :\n",
    "        odd += 1\n",
    "\n",
    "print('홀수 {}개, 짝수 {}개'.format(odd,even))"
   ]
  },
  {
   "cell_type": "code",
   "execution_count": 2,
   "metadata": {},
   "outputs": [
    {
     "name": "stdout",
     "output_type": "stream",
     "text": [
      "asdsa is Palindrom.\n",
      "adfadasd is not Palindrom.\n"
     ]
    }
   ],
   "source": [
    "'''\n",
    "\"AmanaplanacanalPanama : True\n",
    "\n",
    "anavolimilana : False\n",
    "race a car : False\n",
    "\n",
    "A man, a plan, a canal:Panama : True\n",
    "\n",
    "미션1 : 팰린드롬인지를 판단하는 Program만들기\n",
    "미션2 : pop()을 사용해서 만들어보기\"\t\n",
    "'''\n",
    "a = 'asdsa'\n",
    "b = 'adfadasd'\n",
    "\n",
    "def is_pal(a):\n",
    "    pal = False\n",
    "    for i in range(int(len(a)/2)):\n",
    "        if a[i] == a[-(i+1)]:\n",
    "            pal = True\n",
    "            continue\n",
    "        else :\n",
    "            pal = False\n",
    "            break\n",
    "    if pal == True:\n",
    "        print('{} is Palindrom.'.format(a))\n",
    "    else :\n",
    "        print('{} is not Palindrom.'.format(a))\n",
    "\n",
    "is_pal(a)\n",
    "is_pal(b)\n"
   ]
  },
  {
   "cell_type": "code",
   "execution_count": 6,
   "metadata": {},
   "outputs": [
    {
     "name": "stdout",
     "output_type": "stream",
     "text": [
      "asda is not Palindrom.\n",
      "asdfjkafahfgkfg is not Palindrom.\n"
     ]
    }
   ],
   "source": [
    "# 미션2 : pop()을 사용해서 만들어보기\"\n",
    "a = 'asda'\n",
    "k = 'asdfjkafahfgkfg'\n",
    "\n",
    "def is_pal2(a):\n",
    "    pal = False\n",
    "    loop = True\n",
    "    st = list(a)\n",
    "    while loop: \n",
    "        if len(st) >= 2 :\n",
    "            last = st.pop()\n",
    "            first = st.pop(0)\n",
    "            if last == first:\n",
    "                pal = True\n",
    "                loop = True            \n",
    "            else :\n",
    "                pal = False\n",
    "                loop = False\n",
    "        else :\n",
    "            break\n",
    "    if pal == True:\n",
    "        print('{} is Palindrom.'.format(a))\n",
    "    else :\n",
    "        print('{} is not Palindrom.'.format(a))\n",
    "\n",
    "is_pal2(a)\n",
    "is_pal2(k)"
   ]
  },
  {
   "cell_type": "code",
   "execution_count": null,
   "metadata": {},
   "outputs": [],
   "source": []
  }
 ],
 "metadata": {
  "interpreter": {
   "hash": "8b5267723b541d0794c8f01208b5096d08ce3cbcc78b6f58ae0dd4b79f95a58f"
  },
  "kernelspec": {
   "display_name": "Python 3.10.1 64-bit",
   "language": "python",
   "name": "python3"
  },
  "language_info": {
   "codemirror_mode": {
    "name": "ipython",
    "version": 3
   },
   "file_extension": ".py",
   "mimetype": "text/x-python",
   "name": "python",
   "nbconvert_exporter": "python",
   "pygments_lexer": "ipython3",
   "version": "3.9.7"
  },
  "orig_nbformat": 4
 },
 "nbformat": 4,
 "nbformat_minor": 2
}
