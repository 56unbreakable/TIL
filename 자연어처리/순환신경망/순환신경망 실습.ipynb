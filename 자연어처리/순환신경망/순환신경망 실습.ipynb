{
 "cells": [
  {
   "cell_type": "markdown",
   "metadata": {},
   "source": [
    "## 데이터 준비"
   ]
  },
  {
   "cell_type": "code",
   "execution_count": 1,
   "metadata": {},
   "outputs": [],
   "source": [
    "import pandas as pd\n",
    "\n",
    "df = pd.read_csv(\"../신경망/imdb.zip\")"
   ]
  },
  {
   "cell_type": "code",
   "execution_count": 2,
   "metadata": {},
   "outputs": [
    {
     "data": {
      "text/html": [
       "<div>\n",
       "<style scoped>\n",
       "    .dataframe tbody tr th:only-of-type {\n",
       "        vertical-align: middle;\n",
       "    }\n",
       "\n",
       "    .dataframe tbody tr th {\n",
       "        vertical-align: top;\n",
       "    }\n",
       "\n",
       "    .dataframe thead th {\n",
       "        text-align: right;\n",
       "    }\n",
       "</style>\n",
       "<table border=\"1\" class=\"dataframe\">\n",
       "  <thead>\n",
       "    <tr style=\"text-align: right;\">\n",
       "      <th></th>\n",
       "      <th>review</th>\n",
       "      <th>sentiment</th>\n",
       "    </tr>\n",
       "  </thead>\n",
       "  <tbody>\n",
       "    <tr>\n",
       "      <th>0</th>\n",
       "      <td>A very, very, very slow-moving, aimless movie ...</td>\n",
       "      <td>0</td>\n",
       "    </tr>\n",
       "    <tr>\n",
       "      <th>1</th>\n",
       "      <td>Not sure who was more lost - the flat characte...</td>\n",
       "      <td>0</td>\n",
       "    </tr>\n",
       "    <tr>\n",
       "      <th>2</th>\n",
       "      <td>Attempting artiness with black &amp; white and cle...</td>\n",
       "      <td>0</td>\n",
       "    </tr>\n",
       "    <tr>\n",
       "      <th>3</th>\n",
       "      <td>Very little music or anything to speak of.</td>\n",
       "      <td>0</td>\n",
       "    </tr>\n",
       "    <tr>\n",
       "      <th>4</th>\n",
       "      <td>The best scene in the movie was when Gerardo i...</td>\n",
       "      <td>1</td>\n",
       "    </tr>\n",
       "  </tbody>\n",
       "</table>\n",
       "</div>"
      ],
      "text/plain": [
       "                                              review  sentiment\n",
       "0  A very, very, very slow-moving, aimless movie ...          0\n",
       "1  Not sure who was more lost - the flat characte...          0\n",
       "2  Attempting artiness with black & white and cle...          0\n",
       "3         Very little music or anything to speak of.          0\n",
       "4  The best scene in the movie was when Gerardo i...          1"
      ]
     },
     "execution_count": 2,
     "metadata": {},
     "output_type": "execute_result"
    }
   ],
   "source": [
    "df.head()"
   ]
  },
  {
   "cell_type": "code",
   "execution_count": 3,
   "metadata": {},
   "outputs": [],
   "source": [
    "import joblib\n",
    "\n",
    "tk = joblib.load(\"../신경망/tokenizer.pkl\")"
   ]
  },
  {
   "cell_type": "code",
   "execution_count": 4,
   "metadata": {},
   "outputs": [],
   "source": [
    "from sklearn.model_selection import train_test_split\n",
    "\n",
    "review_train, review_test, y_train, y_test = train_test_split(df[\"review\"],df[\"sentiment\"],test_size=0.2,random_state=56)"
   ]
  },
  {
   "cell_type": "code",
   "execution_count": 5,
   "metadata": {},
   "outputs": [],
   "source": [
    "seqs = tk.texts_to_sequences(review_train)"
   ]
  },
  {
   "cell_type": "code",
   "execution_count": 6,
   "metadata": {},
   "outputs": [
    {
     "data": {
      "text/plain": [
       "[1, 1, 12, 111, 79, 28, 145]"
      ]
     },
     "execution_count": 6,
     "metadata": {},
     "output_type": "execute_result"
    }
   ],
   "source": [
    "seqs[0]"
   ]
  },
  {
   "cell_type": "code",
   "execution_count": 7,
   "metadata": {},
   "outputs": [
    {
     "data": {
      "text/plain": [
       "'Meredith M was better than all right.'"
      ]
     },
     "execution_count": 7,
     "metadata": {},
     "output_type": "execute_result"
    }
   ],
   "source": [
    "review_train.iloc[0]"
   ]
  },
  {
   "cell_type": "code",
   "execution_count": 8,
   "metadata": {},
   "outputs": [],
   "source": [
    "## 패딩\n",
    "import tensorflow as tf\n",
    "\n",
    "pads = tf.keras.preprocessing.sequence.pad_sequences(seqs,maxlen = None, padding = \"pre\", truncating= \"pre\")"
   ]
  },
  {
   "cell_type": "code",
   "execution_count": 9,
   "metadata": {},
   "outputs": [
    {
     "data": {
      "text/plain": [
       "array([[   0,    0,    0, ...,   79,   28,  145],\n",
       "       [   0,    0,    0, ...,  293,   10,  119],\n",
       "       [   0,    0,    0, ...,    0,   54,    9],\n",
       "       ...,\n",
       "       [   0,    0,    0, ...,  107,   27,  169],\n",
       "       [   0,    0,    0, ...,  648,   85,  368],\n",
       "       [   0,    0,    0, ...,    0,  121, 1197]])"
      ]
     },
     "execution_count": 9,
     "metadata": {},
     "output_type": "execute_result"
    }
   ],
   "source": [
    "pads"
   ]
  },
  {
   "cell_type": "code",
   "execution_count": 10,
   "metadata": {},
   "outputs": [],
   "source": [
    "NUM_WORDS = tk.num_words + 1"
   ]
  },
  {
   "cell_type": "code",
   "execution_count": 11,
   "metadata": {},
   "outputs": [],
   "source": [
    "model = tf.keras.Sequential([tf.keras.layers.Embedding(NUM_WORDS,8,mask_zero=True),\n",
    "                             tf.keras.layers.LSTM(8),\n",
    "                             tf.keras.layers.Dense(1,activation=\"relu\")])"
   ]
  },
  {
   "cell_type": "code",
   "execution_count": 12,
   "metadata": {},
   "outputs": [
    {
     "name": "stdout",
     "output_type": "stream",
     "text": [
      "Model: \"sequential\"\n",
      "_________________________________________________________________\n",
      "Layer (type)                 Output Shape              Param #   \n",
      "=================================================================\n",
      "embedding (Embedding)        (None, None, 8)           16008     \n",
      "_________________________________________________________________\n",
      "lstm (LSTM)                  (None, 8)                 544       \n",
      "_________________________________________________________________\n",
      "dense (Dense)                (None, 1)                 9         \n",
      "=================================================================\n",
      "Total params: 16,561\n",
      "Trainable params: 16,561\n",
      "Non-trainable params: 0\n",
      "_________________________________________________________________\n"
     ]
    }
   ],
   "source": [
    "model.summary()"
   ]
  },
  {
   "cell_type": "code",
   "execution_count": 16,
   "metadata": {},
   "outputs": [
    {
     "data": {
      "text/plain": [
       "'dialogue'"
      ]
     },
     "execution_count": 16,
     "metadata": {},
     "output_type": "execute_result"
    }
   ],
   "source": [
    "tk.index_word[148]"
   ]
  },
  {
   "cell_type": "code",
   "execution_count": 13,
   "metadata": {},
   "outputs": [],
   "source": [
    "model.compile(loss=\"binary_crossentropy\",optimizer=\"adam\",metrics=[\"accuracy\"])"
   ]
  },
  {
   "cell_type": "code",
   "execution_count": 19,
   "metadata": {},
   "outputs": [
    {
     "name": "stdout",
     "output_type": "stream",
     "text": [
      "Epoch 1/10\n",
      "25/25 [==============================] - 2s 11ms/step - loss: 2.0061 - accuracy: 0.4950\n",
      "Epoch 2/10\n",
      "25/25 [==============================] - 0s 12ms/step - loss: 1.1245 - accuracy: 0.4950\n",
      "Epoch 3/10\n",
      "25/25 [==============================] - 0s 13ms/step - loss: 0.8495 - accuracy: 0.5275\n",
      "Epoch 4/10\n",
      "25/25 [==============================] - 0s 11ms/step - loss: 0.7273 - accuracy: 0.5738\n",
      "Epoch 5/10\n",
      "25/25 [==============================] - 0s 12ms/step - loss: 0.6704 - accuracy: 0.6175\n",
      "Epoch 6/10\n",
      "25/25 [==============================] - 0s 9ms/step - loss: 0.6159 - accuracy: 0.6725\n",
      "Epoch 7/10\n",
      "25/25 [==============================] - 0s 9ms/step - loss: 0.5513 - accuracy: 0.7250\n",
      "Epoch 8/10\n",
      "25/25 [==============================] - 0s 9ms/step - loss: 0.4756 - accuracy: 0.7763\n",
      "Epoch 9/10\n",
      "25/25 [==============================] - 0s 9ms/step - loss: 0.3961 - accuracy: 0.8225\n",
      "Epoch 10/10\n",
      "25/25 [==============================] - 0s 9ms/step - loss: 0.3121 - accuracy: 0.8562\n"
     ]
    },
    {
     "data": {
      "text/plain": [
       "<tensorflow.python.keras.callbacks.History at 0x1ed300373a0>"
      ]
     },
     "execution_count": 19,
     "metadata": {},
     "output_type": "execute_result"
    }
   ],
   "source": [
    "model.fit(pads,y_train.values,epochs=10)"
   ]
  },
  {
   "cell_type": "code",
   "execution_count": 17,
   "metadata": {},
   "outputs": [],
   "source": [
    " # 역방향\n",
    "model = tf.keras.Sequential([tf.keras.layers.Embedding(NUM_WORDS,8,mask_zero=True),\n",
    "                             tf.keras.layers.LSTM(8, go_backwards=True),\n",
    "                             tf.keras.layers.Dense(1, activation=\"sigmoid\")])"
   ]
  },
  {
   "cell_type": "code",
   "execution_count": 18,
   "metadata": {},
   "outputs": [],
   "source": [
    "model.compile(loss=\"binary_crossentropy\",optimizer=\"adam\",metrics=[\"accuracy\"])"
   ]
  },
  {
   "cell_type": "code",
   "execution_count": 19,
   "metadata": {},
   "outputs": [
    {
     "name": "stdout",
     "output_type": "stream",
     "text": [
      "Epoch 1/10\n",
      "25/25 [==============================] - 2s 10ms/step - loss: 0.6919 - accuracy: 0.5138\n",
      "Epoch 2/10\n",
      "25/25 [==============================] - 0s 10ms/step - loss: 0.6855 - accuracy: 0.6162\n",
      "Epoch 3/10\n",
      "25/25 [==============================] - 0s 11ms/step - loss: 0.6693 - accuracy: 0.6513\n",
      "Epoch 4/10\n",
      "25/25 [==============================] - 0s 12ms/step - loss: 0.6185 - accuracy: 0.7337\n",
      "Epoch 5/10\n",
      "25/25 [==============================] - 0s 10ms/step - loss: 0.5229 - accuracy: 0.8587\n",
      "Epoch 6/10\n",
      "25/25 [==============================] - 0s 12ms/step - loss: 0.4269 - accuracy: 0.9013\n",
      "Epoch 7/10\n",
      "25/25 [==============================] - 0s 9ms/step - loss: 0.3434 - accuracy: 0.9287\n",
      "Epoch 8/10\n",
      "25/25 [==============================] - 0s 9ms/step - loss: 0.2921 - accuracy: 0.9400\n",
      "Epoch 9/10\n",
      "25/25 [==============================] - 0s 9ms/step - loss: 0.2559 - accuracy: 0.9425\n",
      "Epoch 10/10\n",
      "25/25 [==============================] - 0s 9ms/step - loss: 0.2238 - accuracy: 0.9525\n"
     ]
    },
    {
     "data": {
      "text/plain": [
       "<tensorflow.python.keras.callbacks.History at 0x1efe8585520>"
      ]
     },
     "execution_count": 19,
     "metadata": {},
     "output_type": "execute_result"
    }
   ],
   "source": [
    "model.fit(pads,y_train.values,epochs=10)"
   ]
  },
  {
   "cell_type": "code",
   "execution_count": 20,
   "metadata": {},
   "outputs": [],
   "source": [
    "# 양방향\n",
    "model = tf.keras.Sequential([tf.keras.layers.Embedding(NUM_WORDS,8,mask_zero=True),\n",
    "                             tf.keras.layers.Bidirectional(tf.keras.layers.LSTM(8)),\n",
    "                             tf.keras.layers.Dense(1, activation=\"sigmoid\")])"
   ]
  },
  {
   "cell_type": "code",
   "execution_count": 21,
   "metadata": {},
   "outputs": [],
   "source": [
    "model.compile(loss=\"binary_crossentropy\",optimizer=\"adam\",metrics=[\"accuracy\"])"
   ]
  },
  {
   "cell_type": "code",
   "execution_count": 22,
   "metadata": {},
   "outputs": [
    {
     "name": "stdout",
     "output_type": "stream",
     "text": [
      "Epoch 1/10\n",
      "25/25 [==============================] - 3s 11ms/step - loss: 0.6926 - accuracy: 0.5263\n",
      "Epoch 2/10\n",
      "25/25 [==============================] - 0s 12ms/step - loss: 0.6881 - accuracy: 0.5375\n",
      "Epoch 3/10\n",
      "25/25 [==============================] - 0s 12ms/step - loss: 0.6773 - accuracy: 0.6562\n",
      "Epoch 4/10\n",
      "25/25 [==============================] - 0s 12ms/step - loss: 0.6459 - accuracy: 0.7088\n",
      "Epoch 5/10\n",
      "25/25 [==============================] - 0s 12ms/step - loss: 0.5478 - accuracy: 0.8288\n",
      "Epoch 6/10\n",
      "25/25 [==============================] - 0s 12ms/step - loss: 0.3900 - accuracy: 0.9200\n",
      "Epoch 7/10\n",
      "25/25 [==============================] - 0s 11ms/step - loss: 0.2653 - accuracy: 0.9362\n",
      "Epoch 8/10\n",
      "25/25 [==============================] - 0s 12ms/step - loss: 0.1947 - accuracy: 0.9550\n",
      "Epoch 9/10\n",
      "25/25 [==============================] - 0s 12ms/step - loss: 0.1466 - accuracy: 0.9688\n",
      "Epoch 10/10\n",
      "25/25 [==============================] - 0s 11ms/step - loss: 0.1255 - accuracy: 0.9725\n"
     ]
    },
    {
     "data": {
      "text/plain": [
       "<tensorflow.python.keras.callbacks.History at 0x1eff26f1f10>"
      ]
     },
     "execution_count": 22,
     "metadata": {},
     "output_type": "execute_result"
    }
   ],
   "source": [
    "model.fit(pads,y_train.values,epochs=10)"
   ]
  },
  {
   "cell_type": "code",
   "execution_count": null,
   "metadata": {},
   "outputs": [],
   "source": []
  }
 ],
 "metadata": {
  "interpreter": {
   "hash": "83d3e1d533d06a5ed13bdd408cfdbe5752516a627e355ce33664633b6ff4534e"
  },
  "kernelspec": {
   "display_name": "Python 3.9.7 ('base')",
   "language": "python",
   "name": "python3"
  },
  "language_info": {
   "codemirror_mode": {
    "name": "ipython",
    "version": 3
   },
   "file_extension": ".py",
   "mimetype": "text/x-python",
   "name": "python",
   "nbconvert_exporter": "python",
   "pygments_lexer": "ipython3",
   "version": "3.9.7"
  },
  "orig_nbformat": 4
 },
 "nbformat": 4,
 "nbformat_minor": 2
}
